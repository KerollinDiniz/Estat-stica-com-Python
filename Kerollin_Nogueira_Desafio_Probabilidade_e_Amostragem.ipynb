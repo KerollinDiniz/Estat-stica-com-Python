{
  "nbformat": 4,
  "nbformat_minor": 0,
  "metadata": {
    "colab": {
      "provenance": [],
      "authorship_tag": "ABX9TyPX0XhbOnYF5HWrv8aCez9G",
      "include_colab_link": true
    },
    "kernelspec": {
      "name": "python3",
      "display_name": "Python 3"
    },
    "language_info": {
      "name": "python"
    }
  },
  "cells": [
    {
      "cell_type": "markdown",
      "metadata": {
        "id": "view-in-github",
        "colab_type": "text"
      },
      "source": [
        "<a href=\"https://colab.research.google.com/github/KerollinDiniz/Estat-stica-com-Python/blob/main/Kerollin_Nogueira_Desafio_Probabilidade_e_Amostragem.ipynb\" target=\"_parent\"><img src=\"https://colab.research.google.com/assets/colab-badge.svg\" alt=\"Open In Colab\"/></a>"
      ]
    },
    {
      "cell_type": "code",
      "execution_count": null,
      "metadata": {
        "id": "ge0HJ_TciEuA"
      },
      "outputs": [],
      "source": [
        "import pandas as pd\n",
        "import numpy as np\n",
        "# Impotar bibliotecas para visualizacao de dados\n",
        "import seaborn as sns\n",
        "import matplotlib.pyplot as plt\n",
        "# Importar bibliotecas para estatística\n",
        "import scipy.stats as stat\n",
        "from scipy.stats import zscore\n",
        "from scipy import stats\n",
        "from scipy.stats import geom\n",
        "from scipy.stats import binom"
      ]
    },
    {
      "cell_type": "code",
      "source": [
        "df_populacaobr = pd.read_csv('populacao_brasileira.csv', index_col=0)"
      ],
      "metadata": {
        "id": "z4jtk40XjZIk"
      },
      "execution_count": null,
      "outputs": []
    },
    {
      "cell_type": "code",
      "source": [
        "df_populacaobr.head(20) #primeiros 5 dados da tabela"
      ],
      "metadata": {
        "colab": {
          "base_uri": "https://localhost:8080/",
          "height": 676
        },
        "id": "sWgb3Cf2ln45",
        "outputId": "5bf61ed9-dc11-44bf-afd8-865b547a84c3"
      },
      "execution_count": null,
      "outputs": [
        {
          "output_type": "execute_result",
          "data": {
            "text/plain": [
              "   estado  idade   escolaridade nível de proficiência em inglês    renda sexo\n",
              "0      MA     56    Fundamental                   Intermediário  4006.29    F\n",
              "1      BA     46       Superior                          Básico  2423.11    M\n",
              "2      AM     32    Fundamental                   Intermediário  3835.69    M\n",
              "3      CE     60       Superior                          Básico  1870.29    M\n",
              "4      SE     25    Fundamental                        Avançado  3529.80    M\n",
              "5      AM     38    Fundamental                        Avançado  4441.57    F\n",
              "6      DF     56          Médio                   Intermediário   528.36    F\n",
              "7      DF     36       Superior                        Avançado  2203.10    F\n",
              "8      PI     40    Fundamental                          Básico  3577.07    F\n",
              "9      AP     28       Superior                        Avançado  2796.95    M\n",
              "10     AC     28       Superior                   Intermediário  3371.15    M\n",
              "11     SC     41  Pós-graduação                   Intermediário  2396.01    M\n",
              "12     SP     53          Médio                   Intermediário  3086.59    F\n",
              "13     AM     57          Médio                          Básico  2844.32    M\n",
              "14     CE     41          Médio                          Básico  4167.78    M\n",
              "15     GO     20  Pós-graduação                          Básico  3254.42    M\n",
              "16     RO     39  Pós-graduação                          Básico  3337.60    M\n",
              "17     PA     19          Médio                          Básico  2588.12    M\n",
              "18     MS     41  Pós-graduação                        Avançado  2512.39    F\n",
              "19     SP     61  Pós-graduação                          Básico  2567.44    F"
            ],
            "text/html": [
              "\n",
              "  <div id=\"df-d7e0d938-ae54-4185-95ca-f28111a3b56b\" class=\"colab-df-container\">\n",
              "    <div>\n",
              "<style scoped>\n",
              "    .dataframe tbody tr th:only-of-type {\n",
              "        vertical-align: middle;\n",
              "    }\n",
              "\n",
              "    .dataframe tbody tr th {\n",
              "        vertical-align: top;\n",
              "    }\n",
              "\n",
              "    .dataframe thead th {\n",
              "        text-align: right;\n",
              "    }\n",
              "</style>\n",
              "<table border=\"1\" class=\"dataframe\">\n",
              "  <thead>\n",
              "    <tr style=\"text-align: right;\">\n",
              "      <th></th>\n",
              "      <th>estado</th>\n",
              "      <th>idade</th>\n",
              "      <th>escolaridade</th>\n",
              "      <th>nível de proficiência em inglês</th>\n",
              "      <th>renda</th>\n",
              "      <th>sexo</th>\n",
              "    </tr>\n",
              "  </thead>\n",
              "  <tbody>\n",
              "    <tr>\n",
              "      <th>0</th>\n",
              "      <td>MA</td>\n",
              "      <td>56</td>\n",
              "      <td>Fundamental</td>\n",
              "      <td>Intermediário</td>\n",
              "      <td>4006.29</td>\n",
              "      <td>F</td>\n",
              "    </tr>\n",
              "    <tr>\n",
              "      <th>1</th>\n",
              "      <td>BA</td>\n",
              "      <td>46</td>\n",
              "      <td>Superior</td>\n",
              "      <td>Básico</td>\n",
              "      <td>2423.11</td>\n",
              "      <td>M</td>\n",
              "    </tr>\n",
              "    <tr>\n",
              "      <th>2</th>\n",
              "      <td>AM</td>\n",
              "      <td>32</td>\n",
              "      <td>Fundamental</td>\n",
              "      <td>Intermediário</td>\n",
              "      <td>3835.69</td>\n",
              "      <td>M</td>\n",
              "    </tr>\n",
              "    <tr>\n",
              "      <th>3</th>\n",
              "      <td>CE</td>\n",
              "      <td>60</td>\n",
              "      <td>Superior</td>\n",
              "      <td>Básico</td>\n",
              "      <td>1870.29</td>\n",
              "      <td>M</td>\n",
              "    </tr>\n",
              "    <tr>\n",
              "      <th>4</th>\n",
              "      <td>SE</td>\n",
              "      <td>25</td>\n",
              "      <td>Fundamental</td>\n",
              "      <td>Avançado</td>\n",
              "      <td>3529.80</td>\n",
              "      <td>M</td>\n",
              "    </tr>\n",
              "    <tr>\n",
              "      <th>5</th>\n",
              "      <td>AM</td>\n",
              "      <td>38</td>\n",
              "      <td>Fundamental</td>\n",
              "      <td>Avançado</td>\n",
              "      <td>4441.57</td>\n",
              "      <td>F</td>\n",
              "    </tr>\n",
              "    <tr>\n",
              "      <th>6</th>\n",
              "      <td>DF</td>\n",
              "      <td>56</td>\n",
              "      <td>Médio</td>\n",
              "      <td>Intermediário</td>\n",
              "      <td>528.36</td>\n",
              "      <td>F</td>\n",
              "    </tr>\n",
              "    <tr>\n",
              "      <th>7</th>\n",
              "      <td>DF</td>\n",
              "      <td>36</td>\n",
              "      <td>Superior</td>\n",
              "      <td>Avançado</td>\n",
              "      <td>2203.10</td>\n",
              "      <td>F</td>\n",
              "    </tr>\n",
              "    <tr>\n",
              "      <th>8</th>\n",
              "      <td>PI</td>\n",
              "      <td>40</td>\n",
              "      <td>Fundamental</td>\n",
              "      <td>Básico</td>\n",
              "      <td>3577.07</td>\n",
              "      <td>F</td>\n",
              "    </tr>\n",
              "    <tr>\n",
              "      <th>9</th>\n",
              "      <td>AP</td>\n",
              "      <td>28</td>\n",
              "      <td>Superior</td>\n",
              "      <td>Avançado</td>\n",
              "      <td>2796.95</td>\n",
              "      <td>M</td>\n",
              "    </tr>\n",
              "    <tr>\n",
              "      <th>10</th>\n",
              "      <td>AC</td>\n",
              "      <td>28</td>\n",
              "      <td>Superior</td>\n",
              "      <td>Intermediário</td>\n",
              "      <td>3371.15</td>\n",
              "      <td>M</td>\n",
              "    </tr>\n",
              "    <tr>\n",
              "      <th>11</th>\n",
              "      <td>SC</td>\n",
              "      <td>41</td>\n",
              "      <td>Pós-graduação</td>\n",
              "      <td>Intermediário</td>\n",
              "      <td>2396.01</td>\n",
              "      <td>M</td>\n",
              "    </tr>\n",
              "    <tr>\n",
              "      <th>12</th>\n",
              "      <td>SP</td>\n",
              "      <td>53</td>\n",
              "      <td>Médio</td>\n",
              "      <td>Intermediário</td>\n",
              "      <td>3086.59</td>\n",
              "      <td>F</td>\n",
              "    </tr>\n",
              "    <tr>\n",
              "      <th>13</th>\n",
              "      <td>AM</td>\n",
              "      <td>57</td>\n",
              "      <td>Médio</td>\n",
              "      <td>Básico</td>\n",
              "      <td>2844.32</td>\n",
              "      <td>M</td>\n",
              "    </tr>\n",
              "    <tr>\n",
              "      <th>14</th>\n",
              "      <td>CE</td>\n",
              "      <td>41</td>\n",
              "      <td>Médio</td>\n",
              "      <td>Básico</td>\n",
              "      <td>4167.78</td>\n",
              "      <td>M</td>\n",
              "    </tr>\n",
              "    <tr>\n",
              "      <th>15</th>\n",
              "      <td>GO</td>\n",
              "      <td>20</td>\n",
              "      <td>Pós-graduação</td>\n",
              "      <td>Básico</td>\n",
              "      <td>3254.42</td>\n",
              "      <td>M</td>\n",
              "    </tr>\n",
              "    <tr>\n",
              "      <th>16</th>\n",
              "      <td>RO</td>\n",
              "      <td>39</td>\n",
              "      <td>Pós-graduação</td>\n",
              "      <td>Básico</td>\n",
              "      <td>3337.60</td>\n",
              "      <td>M</td>\n",
              "    </tr>\n",
              "    <tr>\n",
              "      <th>17</th>\n",
              "      <td>PA</td>\n",
              "      <td>19</td>\n",
              "      <td>Médio</td>\n",
              "      <td>Básico</td>\n",
              "      <td>2588.12</td>\n",
              "      <td>M</td>\n",
              "    </tr>\n",
              "    <tr>\n",
              "      <th>18</th>\n",
              "      <td>MS</td>\n",
              "      <td>41</td>\n",
              "      <td>Pós-graduação</td>\n",
              "      <td>Avançado</td>\n",
              "      <td>2512.39</td>\n",
              "      <td>F</td>\n",
              "    </tr>\n",
              "    <tr>\n",
              "      <th>19</th>\n",
              "      <td>SP</td>\n",
              "      <td>61</td>\n",
              "      <td>Pós-graduação</td>\n",
              "      <td>Básico</td>\n",
              "      <td>2567.44</td>\n",
              "      <td>F</td>\n",
              "    </tr>\n",
              "  </tbody>\n",
              "</table>\n",
              "</div>\n",
              "    <div class=\"colab-df-buttons\">\n",
              "\n",
              "  <div class=\"colab-df-container\">\n",
              "    <button class=\"colab-df-convert\" onclick=\"convertToInteractive('df-d7e0d938-ae54-4185-95ca-f28111a3b56b')\"\n",
              "            title=\"Convert this dataframe to an interactive table.\"\n",
              "            style=\"display:none;\">\n",
              "\n",
              "  <svg xmlns=\"http://www.w3.org/2000/svg\" height=\"24px\" viewBox=\"0 -960 960 960\">\n",
              "    <path d=\"M120-120v-720h720v720H120Zm60-500h600v-160H180v160Zm220 220h160v-160H400v160Zm0 220h160v-160H400v160ZM180-400h160v-160H180v160Zm440 0h160v-160H620v160ZM180-180h160v-160H180v160Zm440 0h160v-160H620v160Z\"/>\n",
              "  </svg>\n",
              "    </button>\n",
              "\n",
              "  <style>\n",
              "    .colab-df-container {\n",
              "      display:flex;\n",
              "      gap: 12px;\n",
              "    }\n",
              "\n",
              "    .colab-df-convert {\n",
              "      background-color: #E8F0FE;\n",
              "      border: none;\n",
              "      border-radius: 50%;\n",
              "      cursor: pointer;\n",
              "      display: none;\n",
              "      fill: #1967D2;\n",
              "      height: 32px;\n",
              "      padding: 0 0 0 0;\n",
              "      width: 32px;\n",
              "    }\n",
              "\n",
              "    .colab-df-convert:hover {\n",
              "      background-color: #E2EBFA;\n",
              "      box-shadow: 0px 1px 2px rgba(60, 64, 67, 0.3), 0px 1px 3px 1px rgba(60, 64, 67, 0.15);\n",
              "      fill: #174EA6;\n",
              "    }\n",
              "\n",
              "    .colab-df-buttons div {\n",
              "      margin-bottom: 4px;\n",
              "    }\n",
              "\n",
              "    [theme=dark] .colab-df-convert {\n",
              "      background-color: #3B4455;\n",
              "      fill: #D2E3FC;\n",
              "    }\n",
              "\n",
              "    [theme=dark] .colab-df-convert:hover {\n",
              "      background-color: #434B5C;\n",
              "      box-shadow: 0px 1px 3px 1px rgba(0, 0, 0, 0.15);\n",
              "      filter: drop-shadow(0px 1px 2px rgba(0, 0, 0, 0.3));\n",
              "      fill: #FFFFFF;\n",
              "    }\n",
              "  </style>\n",
              "\n",
              "    <script>\n",
              "      const buttonEl =\n",
              "        document.querySelector('#df-d7e0d938-ae54-4185-95ca-f28111a3b56b button.colab-df-convert');\n",
              "      buttonEl.style.display =\n",
              "        google.colab.kernel.accessAllowed ? 'block' : 'none';\n",
              "\n",
              "      async function convertToInteractive(key) {\n",
              "        const element = document.querySelector('#df-d7e0d938-ae54-4185-95ca-f28111a3b56b');\n",
              "        const dataTable =\n",
              "          await google.colab.kernel.invokeFunction('convertToInteractive',\n",
              "                                                    [key], {});\n",
              "        if (!dataTable) return;\n",
              "\n",
              "        const docLinkHtml = 'Like what you see? Visit the ' +\n",
              "          '<a target=\"_blank\" href=https://colab.research.google.com/notebooks/data_table.ipynb>data table notebook</a>'\n",
              "          + ' to learn more about interactive tables.';\n",
              "        element.innerHTML = '';\n",
              "        dataTable['output_type'] = 'display_data';\n",
              "        await google.colab.output.renderOutput(dataTable, element);\n",
              "        const docLink = document.createElement('div');\n",
              "        docLink.innerHTML = docLinkHtml;\n",
              "        element.appendChild(docLink);\n",
              "      }\n",
              "    </script>\n",
              "  </div>\n",
              "\n",
              "\n",
              "<div id=\"df-8f7ae608-6fce-4ba4-8b40-3affbe967dfb\">\n",
              "  <button class=\"colab-df-quickchart\" onclick=\"quickchart('df-8f7ae608-6fce-4ba4-8b40-3affbe967dfb')\"\n",
              "            title=\"Suggest charts\"\n",
              "            style=\"display:none;\">\n",
              "\n",
              "<svg xmlns=\"http://www.w3.org/2000/svg\" height=\"24px\"viewBox=\"0 0 24 24\"\n",
              "     width=\"24px\">\n",
              "    <g>\n",
              "        <path d=\"M19 3H5c-1.1 0-2 .9-2 2v14c0 1.1.9 2 2 2h14c1.1 0 2-.9 2-2V5c0-1.1-.9-2-2-2zM9 17H7v-7h2v7zm4 0h-2V7h2v10zm4 0h-2v-4h2v4z\"/>\n",
              "    </g>\n",
              "</svg>\n",
              "  </button>\n",
              "\n",
              "<style>\n",
              "  .colab-df-quickchart {\n",
              "      --bg-color: #E8F0FE;\n",
              "      --fill-color: #1967D2;\n",
              "      --hover-bg-color: #E2EBFA;\n",
              "      --hover-fill-color: #174EA6;\n",
              "      --disabled-fill-color: #AAA;\n",
              "      --disabled-bg-color: #DDD;\n",
              "  }\n",
              "\n",
              "  [theme=dark] .colab-df-quickchart {\n",
              "      --bg-color: #3B4455;\n",
              "      --fill-color: #D2E3FC;\n",
              "      --hover-bg-color: #434B5C;\n",
              "      --hover-fill-color: #FFFFFF;\n",
              "      --disabled-bg-color: #3B4455;\n",
              "      --disabled-fill-color: #666;\n",
              "  }\n",
              "\n",
              "  .colab-df-quickchart {\n",
              "    background-color: var(--bg-color);\n",
              "    border: none;\n",
              "    border-radius: 50%;\n",
              "    cursor: pointer;\n",
              "    display: none;\n",
              "    fill: var(--fill-color);\n",
              "    height: 32px;\n",
              "    padding: 0;\n",
              "    width: 32px;\n",
              "  }\n",
              "\n",
              "  .colab-df-quickchart:hover {\n",
              "    background-color: var(--hover-bg-color);\n",
              "    box-shadow: 0 1px 2px rgba(60, 64, 67, 0.3), 0 1px 3px 1px rgba(60, 64, 67, 0.15);\n",
              "    fill: var(--button-hover-fill-color);\n",
              "  }\n",
              "\n",
              "  .colab-df-quickchart-complete:disabled,\n",
              "  .colab-df-quickchart-complete:disabled:hover {\n",
              "    background-color: var(--disabled-bg-color);\n",
              "    fill: var(--disabled-fill-color);\n",
              "    box-shadow: none;\n",
              "  }\n",
              "\n",
              "  .colab-df-spinner {\n",
              "    border: 2px solid var(--fill-color);\n",
              "    border-color: transparent;\n",
              "    border-bottom-color: var(--fill-color);\n",
              "    animation:\n",
              "      spin 1s steps(1) infinite;\n",
              "  }\n",
              "\n",
              "  @keyframes spin {\n",
              "    0% {\n",
              "      border-color: transparent;\n",
              "      border-bottom-color: var(--fill-color);\n",
              "      border-left-color: var(--fill-color);\n",
              "    }\n",
              "    20% {\n",
              "      border-color: transparent;\n",
              "      border-left-color: var(--fill-color);\n",
              "      border-top-color: var(--fill-color);\n",
              "    }\n",
              "    30% {\n",
              "      border-color: transparent;\n",
              "      border-left-color: var(--fill-color);\n",
              "      border-top-color: var(--fill-color);\n",
              "      border-right-color: var(--fill-color);\n",
              "    }\n",
              "    40% {\n",
              "      border-color: transparent;\n",
              "      border-right-color: var(--fill-color);\n",
              "      border-top-color: var(--fill-color);\n",
              "    }\n",
              "    60% {\n",
              "      border-color: transparent;\n",
              "      border-right-color: var(--fill-color);\n",
              "    }\n",
              "    80% {\n",
              "      border-color: transparent;\n",
              "      border-right-color: var(--fill-color);\n",
              "      border-bottom-color: var(--fill-color);\n",
              "    }\n",
              "    90% {\n",
              "      border-color: transparent;\n",
              "      border-bottom-color: var(--fill-color);\n",
              "    }\n",
              "  }\n",
              "</style>\n",
              "\n",
              "  <script>\n",
              "    async function quickchart(key) {\n",
              "      const quickchartButtonEl =\n",
              "        document.querySelector('#' + key + ' button');\n",
              "      quickchartButtonEl.disabled = true;  // To prevent multiple clicks.\n",
              "      quickchartButtonEl.classList.add('colab-df-spinner');\n",
              "      try {\n",
              "        const charts = await google.colab.kernel.invokeFunction(\n",
              "            'suggestCharts', [key], {});\n",
              "      } catch (error) {\n",
              "        console.error('Error during call to suggestCharts:', error);\n",
              "      }\n",
              "      quickchartButtonEl.classList.remove('colab-df-spinner');\n",
              "      quickchartButtonEl.classList.add('colab-df-quickchart-complete');\n",
              "    }\n",
              "    (() => {\n",
              "      let quickchartButtonEl =\n",
              "        document.querySelector('#df-8f7ae608-6fce-4ba4-8b40-3affbe967dfb button');\n",
              "      quickchartButtonEl.style.display =\n",
              "        google.colab.kernel.accessAllowed ? 'block' : 'none';\n",
              "    })();\n",
              "  </script>\n",
              "</div>\n",
              "\n",
              "    </div>\n",
              "  </div>\n"
            ],
            "application/vnd.google.colaboratory.intrinsic+json": {
              "type": "dataframe",
              "variable_name": "df_populacaobr",
              "summary": "{\n  \"name\": \"df_populacaobr\",\n  \"rows\": 1000,\n  \"fields\": [\n    {\n      \"column\": \"estado\",\n      \"properties\": {\n        \"dtype\": \"category\",\n        \"num_unique_values\": 27,\n        \"samples\": [\n          \"AC\",\n          \"PA\",\n          \"SC\"\n        ],\n        \"semantic_type\": \"\",\n        \"description\": \"\"\n      }\n    },\n    {\n      \"column\": \"idade\",\n      \"properties\": {\n        \"dtype\": \"number\",\n        \"std\": 13,\n        \"min\": 18,\n        \"max\": 64,\n        \"num_unique_values\": 47,\n        \"samples\": [\n          24,\n          48,\n          54\n        ],\n        \"semantic_type\": \"\",\n        \"description\": \"\"\n      }\n    },\n    {\n      \"column\": \"escolaridade\",\n      \"properties\": {\n        \"dtype\": \"category\",\n        \"num_unique_values\": 4,\n        \"samples\": [\n          \"Superior\",\n          \"P\\u00f3s-gradua\\u00e7\\u00e3o\",\n          \"Fundamental\"\n        ],\n        \"semantic_type\": \"\",\n        \"description\": \"\"\n      }\n    },\n    {\n      \"column\": \"n\\u00edvel de profici\\u00eancia em ingl\\u00eas\",\n      \"properties\": {\n        \"dtype\": \"category\",\n        \"num_unique_values\": 3,\n        \"samples\": [\n          \"Intermedi\\u00e1rio\",\n          \"B\\u00e1sico\",\n          \"Avan\\u00e7ado\"\n        ],\n        \"semantic_type\": \"\",\n        \"description\": \"\"\n      }\n    },\n    {\n      \"column\": \"renda\",\n      \"properties\": {\n        \"dtype\": \"number\",\n        \"std\": 996.572239312141,\n        \"min\": 103.74,\n        \"max\": 5632.38,\n        \"num_unique_values\": 998,\n        \"samples\": [\n          2752.82,\n          4218.76,\n          2244.62\n        ],\n        \"semantic_type\": \"\",\n        \"description\": \"\"\n      }\n    },\n    {\n      \"column\": \"sexo\",\n      \"properties\": {\n        \"dtype\": \"category\",\n        \"num_unique_values\": 2,\n        \"samples\": [\n          \"M\",\n          \"F\"\n        ],\n        \"semantic_type\": \"\",\n        \"description\": \"\"\n      }\n    }\n  ]\n}"
            }
          },
          "metadata": {},
          "execution_count": 4
        }
      ]
    },
    {
      "cell_type": "code",
      "source": [
        "df_populacaobr.info()"
      ],
      "metadata": {
        "colab": {
          "base_uri": "https://localhost:8080/"
        },
        "id": "HAFAnQpzmLrp",
        "outputId": "05a7bb30-f0a8-48c7-dbed-833f03a6148f"
      },
      "execution_count": null,
      "outputs": [
        {
          "output_type": "stream",
          "name": "stdout",
          "text": [
            "<class 'pandas.core.frame.DataFrame'>\n",
            "RangeIndex: 1000 entries, 0 to 999\n",
            "Data columns (total 7 columns):\n",
            " #   Column                           Non-Null Count  Dtype  \n",
            "---  ------                           --------------  -----  \n",
            " 0   Unnamed: 0                       1000 non-null   int64  \n",
            " 1   estado                           1000 non-null   object \n",
            " 2   idade                            1000 non-null   int64  \n",
            " 3   escolaridade                     1000 non-null   object \n",
            " 4   nível de proficiência em inglês  1000 non-null   object \n",
            " 5   renda                            1000 non-null   float64\n",
            " 6   sexo                             1000 non-null   object \n",
            "dtypes: float64(1), int64(2), object(4)\n",
            "memory usage: 54.8+ KB\n"
          ]
        }
      ]
    },
    {
      "cell_type": "code",
      "source": [
        "df_populacaobr.shape #número de linhas e colunas"
      ],
      "metadata": {
        "colab": {
          "base_uri": "https://localhost:8080/"
        },
        "id": "nSitp07SmUvl",
        "outputId": "bbf51f21-b867-4018-ba2a-b36894656b2e"
      },
      "execution_count": null,
      "outputs": [
        {
          "output_type": "execute_result",
          "data": {
            "text/plain": [
              "(1000, 6)"
            ]
          },
          "metadata": {},
          "execution_count": 4
        }
      ]
    },
    {
      "cell_type": "code",
      "source": [
        "df_populacaobr.describe()"
      ],
      "metadata": {
        "colab": {
          "base_uri": "https://localhost:8080/",
          "height": 300
        },
        "id": "MkJnVZXmmZvO",
        "outputId": "fc249f06-53bc-4ae6-fa27-1cc08fd80857"
      },
      "execution_count": null,
      "outputs": [
        {
          "output_type": "execute_result",
          "data": {
            "text/plain": [
              "        Unnamed: 0        idade        renda\n",
              "count  1000.000000  1000.000000  1000.000000\n",
              "mean    499.500000    40.986000  3082.537180\n",
              "std     288.819436    13.497852   996.572239\n",
              "min       0.000000    18.000000   103.740000\n",
              "25%     249.750000    29.000000  2425.815000\n",
              "50%     499.500000    42.000000  3076.415000\n",
              "75%     749.250000    52.000000  3714.487500\n",
              "max     999.000000    64.000000  5632.380000"
            ],
            "text/html": [
              "\n",
              "  <div id=\"df-4a908bc7-7ede-42e4-88be-782d9bee9b88\" class=\"colab-df-container\">\n",
              "    <div>\n",
              "<style scoped>\n",
              "    .dataframe tbody tr th:only-of-type {\n",
              "        vertical-align: middle;\n",
              "    }\n",
              "\n",
              "    .dataframe tbody tr th {\n",
              "        vertical-align: top;\n",
              "    }\n",
              "\n",
              "    .dataframe thead th {\n",
              "        text-align: right;\n",
              "    }\n",
              "</style>\n",
              "<table border=\"1\" class=\"dataframe\">\n",
              "  <thead>\n",
              "    <tr style=\"text-align: right;\">\n",
              "      <th></th>\n",
              "      <th>Unnamed: 0</th>\n",
              "      <th>idade</th>\n",
              "      <th>renda</th>\n",
              "    </tr>\n",
              "  </thead>\n",
              "  <tbody>\n",
              "    <tr>\n",
              "      <th>count</th>\n",
              "      <td>1000.000000</td>\n",
              "      <td>1000.000000</td>\n",
              "      <td>1000.000000</td>\n",
              "    </tr>\n",
              "    <tr>\n",
              "      <th>mean</th>\n",
              "      <td>499.500000</td>\n",
              "      <td>40.986000</td>\n",
              "      <td>3082.537180</td>\n",
              "    </tr>\n",
              "    <tr>\n",
              "      <th>std</th>\n",
              "      <td>288.819436</td>\n",
              "      <td>13.497852</td>\n",
              "      <td>996.572239</td>\n",
              "    </tr>\n",
              "    <tr>\n",
              "      <th>min</th>\n",
              "      <td>0.000000</td>\n",
              "      <td>18.000000</td>\n",
              "      <td>103.740000</td>\n",
              "    </tr>\n",
              "    <tr>\n",
              "      <th>25%</th>\n",
              "      <td>249.750000</td>\n",
              "      <td>29.000000</td>\n",
              "      <td>2425.815000</td>\n",
              "    </tr>\n",
              "    <tr>\n",
              "      <th>50%</th>\n",
              "      <td>499.500000</td>\n",
              "      <td>42.000000</td>\n",
              "      <td>3076.415000</td>\n",
              "    </tr>\n",
              "    <tr>\n",
              "      <th>75%</th>\n",
              "      <td>749.250000</td>\n",
              "      <td>52.000000</td>\n",
              "      <td>3714.487500</td>\n",
              "    </tr>\n",
              "    <tr>\n",
              "      <th>max</th>\n",
              "      <td>999.000000</td>\n",
              "      <td>64.000000</td>\n",
              "      <td>5632.380000</td>\n",
              "    </tr>\n",
              "  </tbody>\n",
              "</table>\n",
              "</div>\n",
              "    <div class=\"colab-df-buttons\">\n",
              "\n",
              "  <div class=\"colab-df-container\">\n",
              "    <button class=\"colab-df-convert\" onclick=\"convertToInteractive('df-4a908bc7-7ede-42e4-88be-782d9bee9b88')\"\n",
              "            title=\"Convert this dataframe to an interactive table.\"\n",
              "            style=\"display:none;\">\n",
              "\n",
              "  <svg xmlns=\"http://www.w3.org/2000/svg\" height=\"24px\" viewBox=\"0 -960 960 960\">\n",
              "    <path d=\"M120-120v-720h720v720H120Zm60-500h600v-160H180v160Zm220 220h160v-160H400v160Zm0 220h160v-160H400v160ZM180-400h160v-160H180v160Zm440 0h160v-160H620v160ZM180-180h160v-160H180v160Zm440 0h160v-160H620v160Z\"/>\n",
              "  </svg>\n",
              "    </button>\n",
              "\n",
              "  <style>\n",
              "    .colab-df-container {\n",
              "      display:flex;\n",
              "      gap: 12px;\n",
              "    }\n",
              "\n",
              "    .colab-df-convert {\n",
              "      background-color: #E8F0FE;\n",
              "      border: none;\n",
              "      border-radius: 50%;\n",
              "      cursor: pointer;\n",
              "      display: none;\n",
              "      fill: #1967D2;\n",
              "      height: 32px;\n",
              "      padding: 0 0 0 0;\n",
              "      width: 32px;\n",
              "    }\n",
              "\n",
              "    .colab-df-convert:hover {\n",
              "      background-color: #E2EBFA;\n",
              "      box-shadow: 0px 1px 2px rgba(60, 64, 67, 0.3), 0px 1px 3px 1px rgba(60, 64, 67, 0.15);\n",
              "      fill: #174EA6;\n",
              "    }\n",
              "\n",
              "    .colab-df-buttons div {\n",
              "      margin-bottom: 4px;\n",
              "    }\n",
              "\n",
              "    [theme=dark] .colab-df-convert {\n",
              "      background-color: #3B4455;\n",
              "      fill: #D2E3FC;\n",
              "    }\n",
              "\n",
              "    [theme=dark] .colab-df-convert:hover {\n",
              "      background-color: #434B5C;\n",
              "      box-shadow: 0px 1px 3px 1px rgba(0, 0, 0, 0.15);\n",
              "      filter: drop-shadow(0px 1px 2px rgba(0, 0, 0, 0.3));\n",
              "      fill: #FFFFFF;\n",
              "    }\n",
              "  </style>\n",
              "\n",
              "    <script>\n",
              "      const buttonEl =\n",
              "        document.querySelector('#df-4a908bc7-7ede-42e4-88be-782d9bee9b88 button.colab-df-convert');\n",
              "      buttonEl.style.display =\n",
              "        google.colab.kernel.accessAllowed ? 'block' : 'none';\n",
              "\n",
              "      async function convertToInteractive(key) {\n",
              "        const element = document.querySelector('#df-4a908bc7-7ede-42e4-88be-782d9bee9b88');\n",
              "        const dataTable =\n",
              "          await google.colab.kernel.invokeFunction('convertToInteractive',\n",
              "                                                    [key], {});\n",
              "        if (!dataTable) return;\n",
              "\n",
              "        const docLinkHtml = 'Like what you see? Visit the ' +\n",
              "          '<a target=\"_blank\" href=https://colab.research.google.com/notebooks/data_table.ipynb>data table notebook</a>'\n",
              "          + ' to learn more about interactive tables.';\n",
              "        element.innerHTML = '';\n",
              "        dataTable['output_type'] = 'display_data';\n",
              "        await google.colab.output.renderOutput(dataTable, element);\n",
              "        const docLink = document.createElement('div');\n",
              "        docLink.innerHTML = docLinkHtml;\n",
              "        element.appendChild(docLink);\n",
              "      }\n",
              "    </script>\n",
              "  </div>\n",
              "\n",
              "\n",
              "<div id=\"df-cc6f9c9d-4d25-4d68-a51a-cd35feb6e497\">\n",
              "  <button class=\"colab-df-quickchart\" onclick=\"quickchart('df-cc6f9c9d-4d25-4d68-a51a-cd35feb6e497')\"\n",
              "            title=\"Suggest charts\"\n",
              "            style=\"display:none;\">\n",
              "\n",
              "<svg xmlns=\"http://www.w3.org/2000/svg\" height=\"24px\"viewBox=\"0 0 24 24\"\n",
              "     width=\"24px\">\n",
              "    <g>\n",
              "        <path d=\"M19 3H5c-1.1 0-2 .9-2 2v14c0 1.1.9 2 2 2h14c1.1 0 2-.9 2-2V5c0-1.1-.9-2-2-2zM9 17H7v-7h2v7zm4 0h-2V7h2v10zm4 0h-2v-4h2v4z\"/>\n",
              "    </g>\n",
              "</svg>\n",
              "  </button>\n",
              "\n",
              "<style>\n",
              "  .colab-df-quickchart {\n",
              "      --bg-color: #E8F0FE;\n",
              "      --fill-color: #1967D2;\n",
              "      --hover-bg-color: #E2EBFA;\n",
              "      --hover-fill-color: #174EA6;\n",
              "      --disabled-fill-color: #AAA;\n",
              "      --disabled-bg-color: #DDD;\n",
              "  }\n",
              "\n",
              "  [theme=dark] .colab-df-quickchart {\n",
              "      --bg-color: #3B4455;\n",
              "      --fill-color: #D2E3FC;\n",
              "      --hover-bg-color: #434B5C;\n",
              "      --hover-fill-color: #FFFFFF;\n",
              "      --disabled-bg-color: #3B4455;\n",
              "      --disabled-fill-color: #666;\n",
              "  }\n",
              "\n",
              "  .colab-df-quickchart {\n",
              "    background-color: var(--bg-color);\n",
              "    border: none;\n",
              "    border-radius: 50%;\n",
              "    cursor: pointer;\n",
              "    display: none;\n",
              "    fill: var(--fill-color);\n",
              "    height: 32px;\n",
              "    padding: 0;\n",
              "    width: 32px;\n",
              "  }\n",
              "\n",
              "  .colab-df-quickchart:hover {\n",
              "    background-color: var(--hover-bg-color);\n",
              "    box-shadow: 0 1px 2px rgba(60, 64, 67, 0.3), 0 1px 3px 1px rgba(60, 64, 67, 0.15);\n",
              "    fill: var(--button-hover-fill-color);\n",
              "  }\n",
              "\n",
              "  .colab-df-quickchart-complete:disabled,\n",
              "  .colab-df-quickchart-complete:disabled:hover {\n",
              "    background-color: var(--disabled-bg-color);\n",
              "    fill: var(--disabled-fill-color);\n",
              "    box-shadow: none;\n",
              "  }\n",
              "\n",
              "  .colab-df-spinner {\n",
              "    border: 2px solid var(--fill-color);\n",
              "    border-color: transparent;\n",
              "    border-bottom-color: var(--fill-color);\n",
              "    animation:\n",
              "      spin 1s steps(1) infinite;\n",
              "  }\n",
              "\n",
              "  @keyframes spin {\n",
              "    0% {\n",
              "      border-color: transparent;\n",
              "      border-bottom-color: var(--fill-color);\n",
              "      border-left-color: var(--fill-color);\n",
              "    }\n",
              "    20% {\n",
              "      border-color: transparent;\n",
              "      border-left-color: var(--fill-color);\n",
              "      border-top-color: var(--fill-color);\n",
              "    }\n",
              "    30% {\n",
              "      border-color: transparent;\n",
              "      border-left-color: var(--fill-color);\n",
              "      border-top-color: var(--fill-color);\n",
              "      border-right-color: var(--fill-color);\n",
              "    }\n",
              "    40% {\n",
              "      border-color: transparent;\n",
              "      border-right-color: var(--fill-color);\n",
              "      border-top-color: var(--fill-color);\n",
              "    }\n",
              "    60% {\n",
              "      border-color: transparent;\n",
              "      border-right-color: var(--fill-color);\n",
              "    }\n",
              "    80% {\n",
              "      border-color: transparent;\n",
              "      border-right-color: var(--fill-color);\n",
              "      border-bottom-color: var(--fill-color);\n",
              "    }\n",
              "    90% {\n",
              "      border-color: transparent;\n",
              "      border-bottom-color: var(--fill-color);\n",
              "    }\n",
              "  }\n",
              "</style>\n",
              "\n",
              "  <script>\n",
              "    async function quickchart(key) {\n",
              "      const quickchartButtonEl =\n",
              "        document.querySelector('#' + key + ' button');\n",
              "      quickchartButtonEl.disabled = true;  // To prevent multiple clicks.\n",
              "      quickchartButtonEl.classList.add('colab-df-spinner');\n",
              "      try {\n",
              "        const charts = await google.colab.kernel.invokeFunction(\n",
              "            'suggestCharts', [key], {});\n",
              "      } catch (error) {\n",
              "        console.error('Error during call to suggestCharts:', error);\n",
              "      }\n",
              "      quickchartButtonEl.classList.remove('colab-df-spinner');\n",
              "      quickchartButtonEl.classList.add('colab-df-quickchart-complete');\n",
              "    }\n",
              "    (() => {\n",
              "      let quickchartButtonEl =\n",
              "        document.querySelector('#df-cc6f9c9d-4d25-4d68-a51a-cd35feb6e497 button');\n",
              "      quickchartButtonEl.style.display =\n",
              "        google.colab.kernel.accessAllowed ? 'block' : 'none';\n",
              "    })();\n",
              "  </script>\n",
              "</div>\n",
              "\n",
              "    </div>\n",
              "  </div>\n"
            ],
            "application/vnd.google.colaboratory.intrinsic+json": {
              "type": "dataframe",
              "summary": "{\n  \"name\": \"df_populacaobr\",\n  \"rows\": 8,\n  \"fields\": [\n    {\n      \"column\": \"Unnamed: 0\",\n      \"properties\": {\n        \"dtype\": \"number\",\n        \"std\": 360.1860157939537,\n        \"min\": 0.0,\n        \"max\": 1000.0,\n        \"num_unique_values\": 7,\n        \"samples\": [\n          1000.0,\n          499.5,\n          749.25\n        ],\n        \"semantic_type\": \"\",\n        \"description\": \"\"\n      }\n    },\n    {\n      \"column\": \"idade\",\n      \"properties\": {\n        \"dtype\": \"number\",\n        \"std\": 340.86101014470347,\n        \"min\": 13.497851532595696,\n        \"max\": 1000.0,\n        \"num_unique_values\": 8,\n        \"samples\": [\n          40.986,\n          42.0,\n          1000.0\n        ],\n        \"semantic_type\": \"\",\n        \"description\": \"\"\n      }\n    },\n    {\n      \"column\": \"renda\",\n      \"properties\": {\n        \"dtype\": \"number\",\n        \"std\": 1781.4970040505991,\n        \"min\": 103.74,\n        \"max\": 5632.38,\n        \"num_unique_values\": 8,\n        \"samples\": [\n          3082.5371800000003,\n          3076.415,\n          1000.0\n        ],\n        \"semantic_type\": \"\",\n        \"description\": \"\"\n      }\n    }\n  ]\n}"
            }
          },
          "metadata": {},
          "execution_count": 7
        }
      ]
    },
    {
      "cell_type": "markdown",
      "source": [
        "1. Considere pessoas fluentes em inglês, qual a probabilidade complementar? Ou seja, qual a probabilidade de escolhermos uma pessoa aleatória e ela não ser fluente em inglês. Considere fluente quemtemonível avançado."
      ],
      "metadata": {
        "id": "O5aFnba5muO5"
      }
    },
    {
      "cell_type": "markdown",
      "source": [
        "(nãofluente)=1−P(fluente)"
      ],
      "metadata": {
        "id": "AmuU_nEMfe9f"
      }
    },
    {
      "cell_type": "code",
      "source": [
        "qtd_pessoas = len(df_populacaobr) #Quantas pessoas tem na base"
      ],
      "metadata": {
        "id": "bi2vOF0FmweO"
      },
      "execution_count": null,
      "outputs": []
    },
    {
      "cell_type": "code",
      "source": [
        "qtd_fluente_ingles = df_populacaobr[df_populacaobr['nível de proficiência em inglês'] == 'Avançado'].shape[0] #Qtd de clpessoas fluentes\n",
        "\n",
        "#Calcular a probabilidade de ser fluente\n",
        "prob_fluente = qtd_fluente_ingles / qtd_pessoas\n",
        "\n",
        "#Calcular a probabilidade complementar\n",
        "prob_nao_fluente = (1 - prob_fluente)\n",
        "print(f'A probabilidade cde não ser fluente em inglês:{prob_nao_fluente:.2%}')"
      ],
      "metadata": {
        "colab": {
          "base_uri": "https://localhost:8080/"
        },
        "id": "sPbl5a4BnQ7M",
        "outputId": "94c08f63-61fe-49a8-9d03-39720f4bdf0a"
      },
      "execution_count": null,
      "outputs": [
        {
          "output_type": "stream",
          "name": "stdout",
          "text": [
            "A probabilidade cde não ser fluente em inglês:65.60%\n"
          ]
        }
      ]
    },
    {
      "cell_type": "markdown",
      "source": [
        "2. Se uma pessoa escolhida aleatoriamente for de Alagoas ou do Pará, qual é a probabilidade de ela ter uma renda superior a 5 mil reais?"
      ],
      "metadata": {
        "id": "Dg0g3FQ4qtW7"
      }
    },
    {
      "cell_type": "code",
      "source": [
        "#Selecionar pessoas de Alagoas ou Pará\n",
        "qtd_pessoas_al_pa = df_populacaobr[(df_populacaobr['estado'] == 'AL') | (df_populacaobr['estado'] == 'PA')]\n",
        "\n",
        "total_pessoas_al_pa = len(qtd_pessoas_al_pa)\n",
        "print(total_pessoas_al_pa)"
      ],
      "metadata": {
        "colab": {
          "base_uri": "https://localhost:8080/"
        },
        "id": "Q9wDvkW1qzAM",
        "outputId": "4993a8b2-a0d0-437b-b6b8-b94db59b2c5f"
      },
      "execution_count": null,
      "outputs": [
        {
          "output_type": "stream",
          "name": "stdout",
          "text": [
            "79\n"
          ]
        }
      ]
    },
    {
      "cell_type": "code",
      "source": [
        "# Contar quantas dessas pessoas têm renda superior a 5 mil reais\n",
        "qtd_pessoas_renda_superior_5000 = qtd_pessoas_al_pa[qtd_pessoas_al_pa['renda'] > 5000]\n",
        "\n",
        "total_pessoas_renda_superior_5000 = len(qtd_pessoas_renda_superior_5000)\n",
        "print(total_pessoas_renda_superior_5000)"
      ],
      "metadata": {
        "colab": {
          "base_uri": "https://localhost:8080/"
        },
        "id": "-ydXDC0JsmYQ",
        "outputId": "5e7eea25-c6d7-4087-d179-80201bb19e17"
      },
      "execution_count": null,
      "outputs": [
        {
          "output_type": "stream",
          "name": "stdout",
          "text": [
            "4\n"
          ]
        }
      ]
    },
    {
      "cell_type": "code",
      "source": [
        "#Calcular a probabilidade\n",
        "probabilidade = total_pessoas_renda_superior_5000 / total_pessoas_al_pa\n",
        "print(f'A probabilidade de uma pessoa de Alagoas ou do Pará ter renda superior a 5 mil reais é de {round(probabilidade * 100, 2)}%.')"
      ],
      "metadata": {
        "colab": {
          "base_uri": "https://localhost:8080/"
        },
        "id": "k11ts6w8tF2P",
        "outputId": "685c0949-6e6c-4516-c980-c511a918d365"
      },
      "execution_count": null,
      "outputs": [
        {
          "output_type": "stream",
          "name": "stdout",
          "text": [
            "A probabilidade de uma pessoa de Alagoas ou do Pará ter renda superior a 5 mil reais é de 5.06%.\n"
          ]
        }
      ]
    },
    {
      "cell_type": "markdown",
      "source": [
        "3. Descubra a probabilidade de uma pessoa ter ensino superior completo no estado do Amazonas. Qual a probabilidade da quinta pessoa que você conversar, que é amazonense, ter ensino superior completo?"
      ],
      "metadata": {
        "id": "Bvg77n8-tVAC"
      }
    },
    {
      "cell_type": "code",
      "source": [
        "qtd_pessoas_am = df_populacaobr[df_populacaobr['estado'] == 'AM']\n",
        "\n",
        "total_pessoas_am = len(qtd_pessoas_am)\n",
        "\n",
        "# Contar quantas pessoas têm ensino superior completo da qtd total de pessoas do AM\n",
        "pessoas_superior_completo = qtd_pessoas_am[(qtd_pessoas_am['escolaridade'] == 'Superior')|(qtd_pessoas_am['escolaridade'] == 'Pós-graduação')]\n",
        "\n",
        "total_pessoas_superior_completo = len(pessoas_superior_completo)\n",
        "\n",
        "# Calcular a probabilidade\n",
        "probabilidade_superior_am = total_pessoas_superior_completo / total_pessoas_am\n",
        "\n",
        "print(f'A probabilidade de uma pessoa do AM ter ensino superior completo é de {round(probabilidade_superior_am * 100, 2)}%.')"
      ],
      "metadata": {
        "colab": {
          "base_uri": "https://localhost:8080/"
        },
        "id": "w3ZcQQHntj_P",
        "outputId": "0391b261-ace8-40f9-fdbf-4f8513b86f61"
      },
      "execution_count": null,
      "outputs": [
        {
          "output_type": "stream",
          "name": "stdout",
          "text": [
            "A probabilidade de uma pessoa do AM ter ensino superior completo é de 55.26%.\n"
          ]
        }
      ]
    },
    {
      "cell_type": "markdown",
      "source": [
        "3.1 Qual a probabilidade da quinta pessoa que você conversar, que é amazonense, ter ensino superior completo?"
      ],
      "metadata": {
        "id": "VDvBjLRNco4b"
      }
    },
    {
      "cell_type": "markdown",
      "source": [
        "### **P(X=k)=(1−p)(k−1)×p**"
      ],
      "metadata": {
        "id": "QSUoCW3fhY_8"
      }
    },
    {
      "cell_type": "code",
      "source": [
        "p = len(df_populacaobr[df_populacaobr['estado'] == 'AM']) / len(df_populacaobr)\n",
        "prob_quinta_pessoa = stats.geom.pmf(k=5, p=probabilidade_superior_am)\n",
        "print(f'Probabilidade da quinta pessoa amazonense ter ensino completo é de: {prob_quinta_pessoa:.2%}')"
      ],
      "metadata": {
        "colab": {
          "base_uri": "https://localhost:8080/"
        },
        "id": "FgarMxb-cFTp",
        "outputId": "480a0940-ae7a-4a26-df7b-3ae9625f8446"
      },
      "execution_count": null,
      "outputs": [
        {
          "output_type": "stream",
          "name": "stdout",
          "text": [
            "Probabilidade da quinta pessoa amazonense ter ensino completo é de: 2.21%\n"
          ]
        }
      ]
    },
    {
      "cell_type": "markdown",
      "source": [
        "4. Considerando a renda das pessoas do nosso conjunto, podemos dizer que a renda de uma pessoa brasileira está na sua maioria em que faixa (faça faixa de 1.500 reais)? Qual é a sua função densidade de probabilidade?"
      ],
      "metadata": {
        "id": "zK-_KS5gemQS"
      }
    },
    {
      "cell_type": "code",
      "source": [
        "intervalo = 1500\n",
        "faixas_renda = np.arange(df_populacaobr['renda'].min() - intervalo, df_populacaobr['renda'].max() + intervalo, intervalo)\n",
        "contagem_por_faixa, _ = np.histogram(df_populacaobr['renda'], bins=faixas_renda)\n",
        "\n",
        "faixa_maioria = np.argmax(contagem_por_faixa) * intervalo\n",
        "print(\"Faixa de renda predominante:\", faixa_maioria, \"-\", faixa_maioria + intervalo)\n",
        "#faixa_minima = faixas_renda[faixa_maioria]\n",
        "#faixa_maxima = faixas_renda[faixa_maioria +1]\n",
        "\n",
        "\n",
        "\n",
        "plt.hist(df_populacaobr['renda'], bins=faixas_renda, density=True)\n",
        "plt.title('Histograma - Função de Densidade de Probabilidade')\n",
        "plt.xlabel('Renda(R$)')\n",
        "plt.ylabel('Frequência')\n",
        "plt.grid(True)\n",
        "plt.show()"
      ],
      "metadata": {
        "colab": {
          "base_uri": "https://localhost:8080/",
          "height": 489
        },
        "id": "-Ba968wieqT_",
        "outputId": "b3d58994-df93-4ade-e1ec-11f8e8f150ff"
      },
      "execution_count": null,
      "outputs": [
        {
          "output_type": "stream",
          "name": "stdout",
          "text": [
            "Faixa de renda predominante: 3000 - 4500\n"
          ]
        },
        {
          "output_type": "display_data",
          "data": {
            "text/plain": [
              "<Figure size 640x480 with 1 Axes>"
            ],
            "image/png": "[encoded data removed]"
          },
          "metadata": {}
        }
      ]
    },
    {
      "cell_type": "markdown",
      "source": [
        "5. Calcule a média e a variância da renda da amostra. Depois faça a distribuição normal, inclua o gráfico."
      ],
      "metadata": {
        "id": "vjkTb4B1kli_"
      }
    },
    {
      "cell_type": "code",
      "source": [
        "media_renda = np.mean(df_populacaobr['renda'])\n",
        "variancia_renda = np.var(df_populacaobr['renda'])\n",
        "\n",
        "print(f'Média da renda: {media_renda:.2f}')\n",
        "print(f'Variância da renda: {variancia_renda:.2f}')\n"
      ],
      "metadata": {
        "colab": {
          "base_uri": "https://localhost:8080/"
        },
        "id": "fuEP1HJlzk-B",
        "outputId": "86889ec7-b32f-4196-f094-f8bddebd2812"
      },
      "execution_count": null,
      "outputs": [
        {
          "output_type": "stream",
          "name": "stdout",
          "text": [
            "Média da renda: 3082.54\n",
            "Variância da renda: 992163.07\n"
          ]
        }
      ]
    },
    {
      "cell_type": "code",
      "source": [
        "plt.hist(df_populacaobr['renda'], bins=7, edgecolor='black')\n",
        "\n",
        "plt.title('Distribuição da Renda')\n",
        "plt.xlabel('Renda (R$)')\n",
        "plt.ylabel('Frequência')\n",
        "plt.grid(True)\n",
        "plt.show()"
      ],
      "metadata": {
        "id": "b12Kpu-BksUw",
        "colab": {
          "base_uri": "https://localhost:8080/",
          "height": 472
        },
        "outputId": "f82616ae-59ab-4e52-8ae7-e415c5e40edd"
      },
      "execution_count": null,
      "outputs": [
        {
          "output_type": "display_data",
          "data": {
            "text/plain": [
              "<Figure size 640x480 with 1 Axes>"
            ],
            "image/png": "[encoded data removed]"
          },
          "metadata": {}
        }
      ]
    },
    {
      "cell_type": "markdown",
      "source": [
        "6. Primeiro considere a probabilidade encontrada no nosso conjunto de pessoas com escolaridade de pós-graduação. Considerando a amostra de população brasileira com 1 milhão de habitantes, qual a probabilidade de encontrarmos 243 mil pessoas com pós-graduação?"
      ],
      "metadata": {
        "id": "EnkT48FKtpPZ"
      }
    },
    {
      "cell_type": "code",
      "source": [
        "pessoas_pos_graduacao = len(df_populacaobr[df_populacaobr['escolaridade'] == 'Pós-graduação']) / len(df_populacaobr)\n",
        "pessoas_pos_graduacao"
      ],
      "metadata": {
        "colab": {
          "base_uri": "https://localhost:8080/"
        },
        "id": "jnJjDOSxttkW",
        "outputId": "67866c8e-8e61-4539-8b7b-f8f3cccf7fe0"
      },
      "execution_count": null,
      "outputs": [
        {
          "output_type": "execute_result",
          "data": {
            "text/plain": [
              "0.253"
            ]
          },
          "metadata": {},
          "execution_count": 47
        }
      ]
    },
    {
      "cell_type": "code",
      "source": [
        "n = 1000000\n",
        "k= 243000"
      ],
      "metadata": {
        "id": "kwJMhesNxgAn"
      },
      "execution_count": null,
      "outputs": []
    },
    {
      "cell_type": "code",
      "source": [
        "prob_pos_grad = stats.binom.pmf(k, n, pessoas_pos_graduacao)\n",
        "print(f'Probabilidade de encontrarmos 243 mil pessoas com pós-graduação: {prob_pos_grad}')"
      ],
      "metadata": {
        "colab": {
          "base_uri": "https://localhost:8080/"
        },
        "id": "44EnA2KsxveD",
        "outputId": "69106dec-e316-4d1f-9daf-966bcf4abeb7"
      },
      "execution_count": null,
      "outputs": [
        {
          "output_type": "stream",
          "name": "stdout",
          "text": [
            "Probabilidade de encontrarmos 243 mil pessoas com pós-graduação: 1.1104854289794913e-119\n"
          ]
        }
      ]
    },
    {
      "cell_type": "markdown",
      "source": [
        "7. Somando as densidades nós temos a função dedensidadeacumulada. Considerando a coluna ‘Escolaridade’ faça a função de densidade acumulada discreta para cada nível de escolaridade."
      ],
      "metadata": {
        "id": "pGfm8VUvtuRs"
      }
    },
    {
      "cell_type": "code",
      "source": [
        "verificar_qtd_escolaridade = df_populacaobr['escolaridade'].value_counts(normalize=True).sort_index()\n",
        "densidade_acumulada_escolaridade = verificar_qtd_escolaridade.cumsum()\n",
        "\n",
        "print(\"Função de densidade acumulada discreta para cada nível de escolaridade:\")\n",
        "print(densidade_acumulada_escolaridade)"
      ],
      "metadata": {
        "colab": {
          "base_uri": "https://localhost:8080/"
        },
        "id": "UYHiqSZV45rr",
        "outputId": "f31597f6-fc97-4538-ba60-6b69b69b3d5d"
      },
      "execution_count": null,
      "outputs": [
        {
          "output_type": "stream",
          "name": "stdout",
          "text": [
            "Função de densidade acumulada discreta para cada nível de escolaridade:\n",
            "escolaridade\n",
            "Fundamental      0.266\n",
            "Médio            0.504\n",
            "Pós-graduação    0.757\n",
            "Superior         1.000\n",
            "Name: proportion, dtype: float64\n"
          ]
        }
      ]
    },
    {
      "cell_type": "markdown",
      "source": [
        "8. Qual a margem de erro amostral da proporção populacional considerando a proporção de pessoas com nível de inglês intermediário?"
      ],
      "metadata": {
        "id": "FHUGjPYztxzR"
      }
    },
    {
      "cell_type": "code",
      "source": [
        "proporcao_pessoas_ingles_intermediario = len(df_populacaobr[df_populacaobr['nível de proficiência em inglês'] == 'Intermediário']) / len(df_populacaobr)\n",
        "nivel_confianca = 0.95\n",
        "\n",
        "z = 1.96\n",
        "n = len(df_populacaobr)\n",
        "\n",
        "margem_erro = z * np.sqrt((proporcao_pessoas_ingles_intermediario * (1 - proporcao_pessoas_ingles_intermediario)) / n)\n",
        "\n",
        "print(f'A margem de erro é: {margem_erro:}')"
      ],
      "metadata": {
        "colab": {
          "base_uri": "https://localhost:8080/"
        },
        "id": "QSBJrCko6Qj5",
        "outputId": "71e1070f-a9bb-4452-c9ef-4296b202a935"
      },
      "execution_count": null,
      "outputs": [
        {
          "output_type": "stream",
          "name": "stdout",
          "text": [
            "A margem de erro é: 0.029121603225097343\n"
          ]
        }
      ]
    },
    {
      "cell_type": "markdown",
      "source": [
        "9. Calcula a renda da população. Qual a probabilidade de encontrar 60 pessoas com umarendamil reais superior à média?"
      ],
      "metadata": {
        "id": "pOxcsScqt2Jy"
      }
    },
    {
      "cell_type": "code",
      "source": [
        "#Calcular a média da renda\n",
        "media_renda = np.mean(df_populacaobr['renda'])\n",
        "\n",
        "#Calcular a proporção de pessoas com renda superior à média\n",
        "proporcao_pessoas_renda_superior_media = len(df_populacaobr[df_populacaobr['renda'] > media_renda]) / len(df_populacaobr)\n",
        "\n",
        "n = len(df_populacaobr)\n",
        "k = 60\n",
        "\n",
        "probabilidade_60_superior_media = binom.pmf(k, n, proporcao_pessoas_renda_superior_media)\n",
        "\n",
        "\n",
        "print(f'A probabilidade de encontrar 60 pessoas com renda superior à média é: {probabilidade_60_superior_media:.2f}')\n"
      ],
      "metadata": {
        "colab": {
          "base_uri": "https://localhost:8080/"
        },
        "id": "eSbulg577viq",
        "outputId": "8a46a77b-23d9-4a21-ab73-e6a642629b69"
      },
      "execution_count": null,
      "outputs": [
        {
          "output_type": "stream",
          "name": "stdout",
          "text": [
            "A probabilidade de encontrar 60 pessoas com renda superior à média é: 0.00\n"
          ]
        }
      ]
    },
    {
      "cell_type": "markdown",
      "source": [
        "10. Qual a probabilidade de escolhermos alguém do Sudeste que seja homem, com ensino fundamental e comrendamaior que2mil reais por mês?"
      ],
      "metadata": {
        "id": "ABdDr0eNuBGT"
      }
    },
    {
      "cell_type": "code",
      "source": [
        "\n",
        "# Verificar pessoas do Sudeste, homem, ensino fund e com renda > 2k\n",
        "df_populacaoselecionada = df_populacaobr[\n",
        "    (df_populacaobr['estado'].isin(['SP', 'RJ', 'MG', 'ES'])) &\n",
        "    (df_populacaobr['sexo'] == 'M') &\n",
        "    (df_populacaobr['escolaridade'] == 'Fundamental') &\n",
        "    (df_populacaobr['renda'] > 2000)\n",
        "]\n",
        "\n",
        "print(df_populacaoselecionada)\n",
        "#prob_pessoas_selecionadas = (len(df_populacaoselecionada)) / (len(df_populacaobr))\n",
        "\n",
        "#print(f'A probabilidade é: {prob_pessoas_selecionadas:.2f}')"
      ],
      "metadata": {
        "id": "ATbt38LOuFET",
        "colab": {
          "base_uri": "https://localhost:8080/"
        },
        "outputId": "daf6f702-6361-4964-80a4-37399b2e86da"
      },
      "execution_count": null,
      "outputs": [
        {
          "output_type": "stream",
          "name": "stdout",
          "text": [
            "    estado  idade escolaridade nível de proficiência em inglês    renda sexo\n",
            "155     ES     32  Fundamental                   Intermediário  3615.94    M\n",
            "163     ES     45  Fundamental                          Básico  4049.01    M\n",
            "205     ES     19  Fundamental                        Avançado  3026.09    M\n",
            "301     SP     50  Fundamental                        Avançado  2786.01    M\n",
            "505     SP     18  Fundamental                          Básico  2961.49    M\n",
            "524     MG     27  Fundamental                   Intermediário  4148.77    M\n",
            "612     RJ     19  Fundamental                   Intermediário  2008.61    M\n",
            "626     RJ     21  Fundamental                   Intermediário  4022.57    M\n",
            "680     ES     29  Fundamental                   Intermediário  2164.65    M\n",
            "732     MG     50  Fundamental                   Intermediário  4091.31    M\n",
            "773     MG     18  Fundamental                          Básico  3817.77    M\n",
            "775     MG     22  Fundamental                   Intermediário  3557.81    M\n",
            "785     RJ     19  Fundamental                   Intermediário  3486.50    M\n",
            "814     RJ     51  Fundamental                          Básico  3541.46    M\n",
            "871     RJ     32  Fundamental                        Avançado  2749.17    M\n",
            "881     MG     62  Fundamental                          Básico  3507.84    M\n",
            "885     ES     20  Fundamental                        Avançado  2160.79    M\n",
            "939     ES     23  Fundamental                   Intermediário  3419.53    M\n",
            "985     ES     55  Fundamental                   Intermediário  2040.56    M\n"
          ]
        }
      ]
    },
    {
      "cell_type": "code",
      "source": [
        "prob_pessoas_selecionadas = (len(df_populacaoselecionada)) / (len(df_populacaobr))\n",
        "\n",
        "print(f'A probabilidade é: {prob_pessoas_selecionadas:.2f}')"
      ],
      "metadata": {
        "id": "ZwXOtd-tp-wy",
        "outputId": "5f84087f-b756-487f-8953-74ad87ecb036",
        "colab": {
          "base_uri": "https://localhost:8080/"
        }
      },
      "execution_count": null,
      "outputs": [
        {
          "output_type": "stream",
          "name": "stdout",
          "text": [
            "A probabilidade é: 0.02\n"
          ]
        }
      ]
    },
    {
      "cell_type": "code",
      "source": [
        "df_populacaobr.head(20) #primeiros 5 dados da tabela"
      ],
      "metadata": {
        "colab": {
          "base_uri": "https://localhost:8080/",
          "height": 676
        },
        "id": "3txiC6npnyvb",
        "outputId": "7715b46f-f037-4fe8-d5aa-3e24af42e5a4"
      },
      "execution_count": null,
      "outputs": [
        {
          "output_type": "execute_result",
          "data": {
            "text/plain": [
              "   estado  idade   escolaridade nível de proficiência em inglês    renda sexo\n",
              "0      MA     56    Fundamental                   Intermediário  4006.29    F\n",
              "1      BA     46       Superior                          Básico  2423.11    M\n",
              "2      AM     32    Fundamental                   Intermediário  3835.69    M\n",
              "3      CE     60       Superior                          Básico  1870.29    M\n",
              "4      SE     25    Fundamental                        Avançado  3529.80    M\n",
              "5      AM     38    Fundamental                        Avançado  4441.57    F\n",
              "6      DF     56          Médio                   Intermediário   528.36    F\n",
              "7      DF     36       Superior                        Avançado  2203.10    F\n",
              "8      PI     40    Fundamental                          Básico  3577.07    F\n",
              "9      AP     28       Superior                        Avançado  2796.95    M\n",
              "10     AC     28       Superior                   Intermediário  3371.15    M\n",
              "11     SC     41  Pós-graduação                   Intermediário  2396.01    M\n",
              "12     SP     53          Médio                   Intermediário  3086.59    F\n",
              "13     AM     57          Médio                          Básico  2844.32    M\n",
              "14     CE     41          Médio                          Básico  4167.78    M\n",
              "15     GO     20  Pós-graduação                          Básico  3254.42    M\n",
              "16     RO     39  Pós-graduação                          Básico  3337.60    M\n",
              "17     PA     19          Médio                          Básico  2588.12    M\n",
              "18     MS     41  Pós-graduação                        Avançado  2512.39    F\n",
              "19     SP     61  Pós-graduação                          Básico  2567.44    F"
            ],
            "text/html": [
              "\n",
              "  <div id=\"df-8c9020bd-e580-47c9-a815-84f9b97481bd\" class=\"colab-df-container\">\n",
              "    <div>\n",
              "<style scoped>\n",
              "    .dataframe tbody tr th:only-of-type {\n",
              "        vertical-align: middle;\n",
              "    }\n",
              "\n",
              "    .dataframe tbody tr th {\n",
              "        vertical-align: top;\n",
              "    }\n",
              "\n",
              "    .dataframe thead th {\n",
              "        text-align: right;\n",
              "    }\n",
              "</style>\n",
              "<table border=\"1\" class=\"dataframe\">\n",
              "  <thead>\n",
              "    <tr style=\"text-align: right;\">\n",
              "      <th></th>\n",
              "      <th>estado</th>\n",
              "      <th>idade</th>\n",
              "      <th>escolaridade</th>\n",
              "      <th>nível de proficiência em inglês</th>\n",
              "      <th>renda</th>\n",
              "      <th>sexo</th>\n",
              "    </tr>\n",
              "  </thead>\n",
              "  <tbody>\n",
              "    <tr>\n",
              "      <th>0</th>\n",
              "      <td>MA</td>\n",
              "      <td>56</td>\n",
              "      <td>Fundamental</td>\n",
              "      <td>Intermediário</td>\n",
              "      <td>4006.29</td>\n",
              "      <td>F</td>\n",
              "    </tr>\n",
              "    <tr>\n",
              "      <th>1</th>\n",
              "      <td>BA</td>\n",
              "      <td>46</td>\n",
              "      <td>Superior</td>\n",
              "      <td>Básico</td>\n",
              "      <td>2423.11</td>\n",
              "      <td>M</td>\n",
              "    </tr>\n",
              "    <tr>\n",
              "      <th>2</th>\n",
              "      <td>AM</td>\n",
              "      <td>32</td>\n",
              "      <td>Fundamental</td>\n",
              "      <td>Intermediário</td>\n",
              "      <td>3835.69</td>\n",
              "      <td>M</td>\n",
              "    </tr>\n",
              "    <tr>\n",
              "      <th>3</th>\n",
              "      <td>CE</td>\n",
              "      <td>60</td>\n",
              "      <td>Superior</td>\n",
              "      <td>Básico</td>\n",
              "      <td>1870.29</td>\n",
              "      <td>M</td>\n",
              "    </tr>\n",
              "    <tr>\n",
              "      <th>4</th>\n",
              "      <td>SE</td>\n",
              "      <td>25</td>\n",
              "      <td>Fundamental</td>\n",
              "      <td>Avançado</td>\n",
              "      <td>3529.80</td>\n",
              "      <td>M</td>\n",
              "    </tr>\n",
              "    <tr>\n",
              "      <th>5</th>\n",
              "      <td>AM</td>\n",
              "      <td>38</td>\n",
              "      <td>Fundamental</td>\n",
              "      <td>Avançado</td>\n",
              "      <td>4441.57</td>\n",
              "      <td>F</td>\n",
              "    </tr>\n",
              "    <tr>\n",
              "      <th>6</th>\n",
              "      <td>DF</td>\n",
              "      <td>56</td>\n",
              "      <td>Médio</td>\n",
              "      <td>Intermediário</td>\n",
              "      <td>528.36</td>\n",
              "      <td>F</td>\n",
              "    </tr>\n",
              "    <tr>\n",
              "      <th>7</th>\n",
              "      <td>DF</td>\n",
              "      <td>36</td>\n",
              "      <td>Superior</td>\n",
              "      <td>Avançado</td>\n",
              "      <td>2203.10</td>\n",
              "      <td>F</td>\n",
              "    </tr>\n",
              "    <tr>\n",
              "      <th>8</th>\n",
              "      <td>PI</td>\n",
              "      <td>40</td>\n",
              "      <td>Fundamental</td>\n",
              "      <td>Básico</td>\n",
              "      <td>3577.07</td>\n",
              "      <td>F</td>\n",
              "    </tr>\n",
              "    <tr>\n",
              "      <th>9</th>\n",
              "      <td>AP</td>\n",
              "      <td>28</td>\n",
              "      <td>Superior</td>\n",
              "      <td>Avançado</td>\n",
              "      <td>2796.95</td>\n",
              "      <td>M</td>\n",
              "    </tr>\n",
              "    <tr>\n",
              "      <th>10</th>\n",
              "      <td>AC</td>\n",
              "      <td>28</td>\n",
              "      <td>Superior</td>\n",
              "      <td>Intermediário</td>\n",
              "      <td>3371.15</td>\n",
              "      <td>M</td>\n",
              "    </tr>\n",
              "    <tr>\n",
              "      <th>11</th>\n",
              "      <td>SC</td>\n",
              "      <td>41</td>\n",
              "      <td>Pós-graduação</td>\n",
              "      <td>Intermediário</td>\n",
              "      <td>2396.01</td>\n",
              "      <td>M</td>\n",
              "    </tr>\n",
              "    <tr>\n",
              "      <th>12</th>\n",
              "      <td>SP</td>\n",
              "      <td>53</td>\n",
              "      <td>Médio</td>\n",
              "      <td>Intermediário</td>\n",
              "      <td>3086.59</td>\n",
              "      <td>F</td>\n",
              "    </tr>\n",
              "    <tr>\n",
              "      <th>13</th>\n",
              "      <td>AM</td>\n",
              "      <td>57</td>\n",
              "      <td>Médio</td>\n",
              "      <td>Básico</td>\n",
              "      <td>2844.32</td>\n",
              "      <td>M</td>\n",
              "    </tr>\n",
              "    <tr>\n",
              "      <th>14</th>\n",
              "      <td>CE</td>\n",
              "      <td>41</td>\n",
              "      <td>Médio</td>\n",
              "      <td>Básico</td>\n",
              "      <td>4167.78</td>\n",
              "      <td>M</td>\n",
              "    </tr>\n",
              "    <tr>\n",
              "      <th>15</th>\n",
              "      <td>GO</td>\n",
              "      <td>20</td>\n",
              "      <td>Pós-graduação</td>\n",
              "      <td>Básico</td>\n",
              "      <td>3254.42</td>\n",
              "      <td>M</td>\n",
              "    </tr>\n",
              "    <tr>\n",
              "      <th>16</th>\n",
              "      <td>RO</td>\n",
              "      <td>39</td>\n",
              "      <td>Pós-graduação</td>\n",
              "      <td>Básico</td>\n",
              "      <td>3337.60</td>\n",
              "      <td>M</td>\n",
              "    </tr>\n",
              "    <tr>\n",
              "      <th>17</th>\n",
              "      <td>PA</td>\n",
              "      <td>19</td>\n",
              "      <td>Médio</td>\n",
              "      <td>Básico</td>\n",
              "      <td>2588.12</td>\n",
              "      <td>M</td>\n",
              "    </tr>\n",
              "    <tr>\n",
              "      <th>18</th>\n",
              "      <td>MS</td>\n",
              "      <td>41</td>\n",
              "      <td>Pós-graduação</td>\n",
              "      <td>Avançado</td>\n",
              "      <td>2512.39</td>\n",
              "      <td>F</td>\n",
              "    </tr>\n",
              "    <tr>\n",
              "      <th>19</th>\n",
              "      <td>SP</td>\n",
              "      <td>61</td>\n",
              "      <td>Pós-graduação</td>\n",
              "      <td>Básico</td>\n",
              "      <td>2567.44</td>\n",
              "      <td>F</td>\n",
              "    </tr>\n",
              "  </tbody>\n",
              "</table>\n",
              "</div>\n",
              "    <div class=\"colab-df-buttons\">\n",
              "\n",
              "  <div class=\"colab-df-container\">\n",
              "    <button class=\"colab-df-convert\" onclick=\"convertToInteractive('df-8c9020bd-e580-47c9-a815-84f9b97481bd')\"\n",
              "            title=\"Convert this dataframe to an interactive table.\"\n",
              "            style=\"display:none;\">\n",
              "\n",
              "  <svg xmlns=\"http://www.w3.org/2000/svg\" height=\"24px\" viewBox=\"0 -960 960 960\">\n",
              "    <path d=\"M120-120v-720h720v720H120Zm60-500h600v-160H180v160Zm220 220h160v-160H400v160Zm0 220h160v-160H400v160ZM180-400h160v-160H180v160Zm440 0h160v-160H620v160ZM180-180h160v-160H180v160Zm440 0h160v-160H620v160Z\"/>\n",
              "  </svg>\n",
              "    </button>\n",
              "\n",
              "  <style>\n",
              "    .colab-df-container {\n",
              "      display:flex;\n",
              "      gap: 12px;\n",
              "    }\n",
              "\n",
              "    .colab-df-convert {\n",
              "      background-color: #E8F0FE;\n",
              "      border: none;\n",
              "      border-radius: 50%;\n",
              "      cursor: pointer;\n",
              "      display: none;\n",
              "      fill: #1967D2;\n",
              "      height: 32px;\n",
              "      padding: 0 0 0 0;\n",
              "      width: 32px;\n",
              "    }\n",
              "\n",
              "    .colab-df-convert:hover {\n",
              "      background-color: #E2EBFA;\n",
              "      box-shadow: 0px 1px 2px rgba(60, 64, 67, 0.3), 0px 1px 3px 1px rgba(60, 64, 67, 0.15);\n",
              "      fill: #174EA6;\n",
              "    }\n",
              "\n",
              "    .colab-df-buttons div {\n",
              "      margin-bottom: 4px;\n",
              "    }\n",
              "\n",
              "    [theme=dark] .colab-df-convert {\n",
              "      background-color: #3B4455;\n",
              "      fill: #D2E3FC;\n",
              "    }\n",
              "\n",
              "    [theme=dark] .colab-df-convert:hover {\n",
              "      background-color: #434B5C;\n",
              "      box-shadow: 0px 1px 3px 1px rgba(0, 0, 0, 0.15);\n",
              "      filter: drop-shadow(0px 1px 2px rgba(0, 0, 0, 0.3));\n",
              "      fill: #FFFFFF;\n",
              "    }\n",
              "  </style>\n",
              "\n",
              "    <script>\n",
              "      const buttonEl =\n",
              "        document.querySelector('#df-8c9020bd-e580-47c9-a815-84f9b97481bd button.colab-df-convert');\n",
              "      buttonEl.style.display =\n",
              "        google.colab.kernel.accessAllowed ? 'block' : 'none';\n",
              "\n",
              "      async function convertToInteractive(key) {\n",
              "        const element = document.querySelector('#df-8c9020bd-e580-47c9-a815-84f9b97481bd');\n",
              "        const dataTable =\n",
              "          await google.colab.kernel.invokeFunction('convertToInteractive',\n",
              "                                                    [key], {});\n",
              "        if (!dataTable) return;\n",
              "\n",
              "        const docLinkHtml = 'Like what you see? Visit the ' +\n",
              "          '<a target=\"_blank\" href=https://colab.research.google.com/notebooks/data_table.ipynb>data table notebook</a>'\n",
              "          + ' to learn more about interactive tables.';\n",
              "        element.innerHTML = '';\n",
              "        dataTable['output_type'] = 'display_data';\n",
              "        await google.colab.output.renderOutput(dataTable, element);\n",
              "        const docLink = document.createElement('div');\n",
              "        docLink.innerHTML = docLinkHtml;\n",
              "        element.appendChild(docLink);\n",
              "      }\n",
              "    </script>\n",
              "  </div>\n",
              "\n",
              "\n",
              "<div id=\"df-d7bb41fd-6fcb-468a-8beb-49bf1a145abc\">\n",
              "  <button class=\"colab-df-quickchart\" onclick=\"quickchart('df-d7bb41fd-6fcb-468a-8beb-49bf1a145abc')\"\n",
              "            title=\"Suggest charts\"\n",
              "            style=\"display:none;\">\n",
              "\n",
              "<svg xmlns=\"http://www.w3.org/2000/svg\" height=\"24px\"viewBox=\"0 0 24 24\"\n",
              "     width=\"24px\">\n",
              "    <g>\n",
              "        <path d=\"M19 3H5c-1.1 0-2 .9-2 2v14c0 1.1.9 2 2 2h14c1.1 0 2-.9 2-2V5c0-1.1-.9-2-2-2zM9 17H7v-7h2v7zm4 0h-2V7h2v10zm4 0h-2v-4h2v4z\"/>\n",
              "    </g>\n",
              "</svg>\n",
              "  </button>\n",
              "\n",
              "<style>\n",
              "  .colab-df-quickchart {\n",
              "      --bg-color: #E8F0FE;\n",
              "      --fill-color: #1967D2;\n",
              "      --hover-bg-color: #E2EBFA;\n",
              "      --hover-fill-color: #174EA6;\n",
              "      --disabled-fill-color: #AAA;\n",
              "      --disabled-bg-color: #DDD;\n",
              "  }\n",
              "\n",
              "  [theme=dark] .colab-df-quickchart {\n",
              "      --bg-color: #3B4455;\n",
              "      --fill-color: #D2E3FC;\n",
              "      --hover-bg-color: #434B5C;\n",
              "      --hover-fill-color: #FFFFFF;\n",
              "      --disabled-bg-color: #3B4455;\n",
              "      --disabled-fill-color: #666;\n",
              "  }\n",
              "\n",
              "  .colab-df-quickchart {\n",
              "    background-color: var(--bg-color);\n",
              "    border: none;\n",
              "    border-radius: 50%;\n",
              "    cursor: pointer;\n",
              "    display: none;\n",
              "    fill: var(--fill-color);\n",
              "    height: 32px;\n",
              "    padding: 0;\n",
              "    width: 32px;\n",
              "  }\n",
              "\n",
              "  .colab-df-quickchart:hover {\n",
              "    background-color: var(--hover-bg-color);\n",
              "    box-shadow: 0 1px 2px rgba(60, 64, 67, 0.3), 0 1px 3px 1px rgba(60, 64, 67, 0.15);\n",
              "    fill: var(--button-hover-fill-color);\n",
              "  }\n",
              "\n",
              "  .colab-df-quickchart-complete:disabled,\n",
              "  .colab-df-quickchart-complete:disabled:hover {\n",
              "    background-color: var(--disabled-bg-color);\n",
              "    fill: var(--disabled-fill-color);\n",
              "    box-shadow: none;\n",
              "  }\n",
              "\n",
              "  .colab-df-spinner {\n",
              "    border: 2px solid var(--fill-color);\n",
              "    border-color: transparent;\n",
              "    border-bottom-color: var(--fill-color);\n",
              "    animation:\n",
              "      spin 1s steps(1) infinite;\n",
              "  }\n",
              "\n",
              "  @keyframes spin {\n",
              "    0% {\n",
              "      border-color: transparent;\n",
              "      border-bottom-color: var(--fill-color);\n",
              "      border-left-color: var(--fill-color);\n",
              "    }\n",
              "    20% {\n",
              "      border-color: transparent;\n",
              "      border-left-color: var(--fill-color);\n",
              "      border-top-color: var(--fill-color);\n",
              "    }\n",
              "    30% {\n",
              "      border-color: transparent;\n",
              "      border-left-color: var(--fill-color);\n",
              "      border-top-color: var(--fill-color);\n",
              "      border-right-color: var(--fill-color);\n",
              "    }\n",
              "    40% {\n",
              "      border-color: transparent;\n",
              "      border-right-color: var(--fill-color);\n",
              "      border-top-color: var(--fill-color);\n",
              "    }\n",
              "    60% {\n",
              "      border-color: transparent;\n",
              "      border-right-color: var(--fill-color);\n",
              "    }\n",
              "    80% {\n",
              "      border-color: transparent;\n",
              "      border-right-color: var(--fill-color);\n",
              "      border-bottom-color: var(--fill-color);\n",
              "    }\n",
              "    90% {\n",
              "      border-color: transparent;\n",
              "      border-bottom-color: var(--fill-color);\n",
              "    }\n",
              "  }\n",
              "</style>\n",
              "\n",
              "  <script>\n",
              "    async function quickchart(key) {\n",
              "      const quickchartButtonEl =\n",
              "        document.querySelector('#' + key + ' button');\n",
              "      quickchartButtonEl.disabled = true;  // To prevent multiple clicks.\n",
              "      quickchartButtonEl.classList.add('colab-df-spinner');\n",
              "      try {\n",
              "        const charts = await google.colab.kernel.invokeFunction(\n",
              "            'suggestCharts', [key], {});\n",
              "      } catch (error) {\n",
              "        console.error('Error during call to suggestCharts:', error);\n",
              "      }\n",
              "      quickchartButtonEl.classList.remove('colab-df-spinner');\n",
              "      quickchartButtonEl.classList.add('colab-df-quickchart-complete');\n",
              "    }\n",
              "    (() => {\n",
              "      let quickchartButtonEl =\n",
              "        document.querySelector('#df-d7bb41fd-6fcb-468a-8beb-49bf1a145abc button');\n",
              "      quickchartButtonEl.style.display =\n",
              "        google.colab.kernel.accessAllowed ? 'block' : 'none';\n",
              "    })();\n",
              "  </script>\n",
              "</div>\n",
              "\n",
              "    </div>\n",
              "  </div>\n"
            ],
            "application/vnd.google.colaboratory.intrinsic+json": {
              "type": "dataframe",
              "variable_name": "df_populacaobr",
              "summary": "{\n  \"name\": \"df_populacaobr\",\n  \"rows\": 1000,\n  \"fields\": [\n    {\n      \"column\": \"estado\",\n      \"properties\": {\n        \"dtype\": \"category\",\n        \"num_unique_values\": 27,\n        \"samples\": [\n          \"AC\",\n          \"PA\",\n          \"SC\"\n        ],\n        \"semantic_type\": \"\",\n        \"description\": \"\"\n      }\n    },\n    {\n      \"column\": \"idade\",\n      \"properties\": {\n        \"dtype\": \"number\",\n        \"std\": 13,\n        \"min\": 18,\n        \"max\": 64,\n        \"num_unique_values\": 47,\n        \"samples\": [\n          24,\n          48,\n          54\n        ],\n        \"semantic_type\": \"\",\n        \"description\": \"\"\n      }\n    },\n    {\n      \"column\": \"escolaridade\",\n      \"properties\": {\n        \"dtype\": \"category\",\n        \"num_unique_values\": 4,\n        \"samples\": [\n          \"Superior\",\n          \"P\\u00f3s-gradua\\u00e7\\u00e3o\",\n          \"Fundamental\"\n        ],\n        \"semantic_type\": \"\",\n        \"description\": \"\"\n      }\n    },\n    {\n      \"column\": \"n\\u00edvel de profici\\u00eancia em ingl\\u00eas\",\n      \"properties\": {\n        \"dtype\": \"category\",\n        \"num_unique_values\": 3,\n        \"samples\": [\n          \"Intermedi\\u00e1rio\",\n          \"B\\u00e1sico\",\n          \"Avan\\u00e7ado\"\n        ],\n        \"semantic_type\": \"\",\n        \"description\": \"\"\n      }\n    },\n    {\n      \"column\": \"renda\",\n      \"properties\": {\n        \"dtype\": \"number\",\n        \"std\": 996.572239312141,\n        \"min\": 103.74,\n        \"max\": 5632.38,\n        \"num_unique_values\": 998,\n        \"samples\": [\n          2752.82,\n          4218.76,\n          2244.62\n        ],\n        \"semantic_type\": \"\",\n        \"description\": \"\"\n      }\n    },\n    {\n      \"column\": \"sexo\",\n      \"properties\": {\n        \"dtype\": \"category\",\n        \"num_unique_values\": 2,\n        \"samples\": [\n          \"M\",\n          \"F\"\n        ],\n        \"semantic_type\": \"\",\n        \"description\": \"\"\n      }\n    }\n  ]\n}"
            }
          },
          "metadata": {},
          "execution_count": 23
        }
      ]
    }
  ]
}