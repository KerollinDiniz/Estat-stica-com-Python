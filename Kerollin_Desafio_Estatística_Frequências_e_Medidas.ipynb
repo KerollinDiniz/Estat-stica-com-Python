{
  "nbformat": 4,
  "nbformat_minor": 0,
  "metadata": {
    "colab": {
      "provenance": [],
      "authorship_tag": "ABX9TyMrNPJPJtj8Wxlw7sATIjKu",
      "include_colab_link": true
    },
    "kernelspec": {
      "name": "python3",
      "display_name": "Python 3"
    },
    "language_info": {
      "name": "python"
    }
  },
  "cells": [
    {
      "cell_type": "markdown",
      "metadata": {
        "id": "view-in-github",
        "colab_type": "text"
      },
      "source": [
        "<a href=\"https://colab.research.google.com/github/KerollinDiniz/Estat-stica-com-Python/blob/main/Kerollin_Desafio_Estat%C3%ADstica_Frequ%C3%AAncias_e_Medidas.ipynb\" target=\"_parent\"><img src=\"https://colab.research.google.com/assets/colab-badge.svg\" alt=\"Open In Colab\"/></a>"
      ]
    },
    {
      "cell_type": "code",
      "execution_count": null,
      "metadata": {
        "id": "4Fzr8MIlNBvP"
      },
      "outputs": [],
      "source": [
        "import pandas as pd\n",
        "import numpy as np\n",
        "# Impotar bibliotecas para visualizacao de dados\n",
        "import seaborn as sns\n",
        "import matplotlib.pyplot as plt\n",
        "# Importar bibliotecas para estatística\n",
        "import scipy.stats as stat\n",
        "from scipy.stats import zscore\n"
      ]
    },
    {
      "cell_type": "code",
      "source": [
        "# Carregar arquivo Json\n",
        "enem2023_data = pd.read_json('enem_2023.json')"
      ],
      "metadata": {
        "id": "plopzL1hnXpL"
      },
      "execution_count": 4,
      "outputs": []
    },
    {
      "cell_type": "markdown",
      "source": [
        "Considerando a base de dados de enem_2023.json responda as questões abaixo (os dados são fictícios). Você é uma pesquisadora de um cursinho para estudantes que querem ingressar na universidade em 2025. Seu objetivo é retirar informações da base de dados do enem doanoanteriorparaalinhar melhor as estratégias do cursinho para cada estudante. O dado possui 6 colunas, 5 delas representam as disciplinas do ENEM e uma o gênero das pessoas que fizeram a prova. No dado existe a representação de 1000 pessoas, sendo cada uma delas uma linha.\n",
        "\n"
      ],
      "metadata": {
        "id": "YuUItxRgoH0t"
      }
    },
    {
      "cell_type": "code",
      "source": [
        "# Imprimir primeiros 10 dados da tabela\n",
        "enem2023_data.head(10)"
      ],
      "metadata": {
        "colab": {
          "base_uri": "https://localhost:8080/",
          "height": 363
        },
        "id": "xmau8oYEnynx",
        "outputId": "81ace24d-a386-42a5-eeb0-5d46bcdd2727"
      },
      "execution_count": null,
      "outputs": [
        {
          "output_type": "execute_result",
          "data": {
            "text/plain": [
              "   Linguagens  Ciências humanas  Ciências da natureza  Matemática     Redação  \\\n",
              "0  585.669300        686.512178            390.482473  452.281333  546.371706   \n",
              "1  359.384608        642.084134                   NaN  412.205207  741.825256   \n",
              "2  622.732384        495.510719            443.183580  669.683401  684.515750   \n",
              "3  350.164605        602.041588            413.979810  676.608952  671.237114   \n",
              "4  384.093657        489.249140            609.758123  520.426698  744.375048   \n",
              "5  616.043360        502.007005            497.777935  615.902547  507.365147   \n",
              "6  511.897593        479.197660            469.023899  441.139103  541.979136   \n",
              "7  377.439818        663.489624            556.239031  517.215575  635.424649   \n",
              "8  597.462934               NaN            483.223740  509.043317  499.676936   \n",
              "9  536.571398        594.007869                   NaN  595.562778  270.839965   \n",
              "\n",
              "     Sexo  \n",
              "0   Homem  \n",
              "1  Mulher  \n",
              "2   Homem  \n",
              "3   Homem  \n",
              "4   Homem  \n",
              "5   Homem  \n",
              "6  Mulher  \n",
              "7  Mulher  \n",
              "8  Mulher  \n",
              "9  Mulher  "
            ],
            "text/html": [
              "\n",
              "  <div id=\"df-15acfa83-0a50-4330-817c-eb1daf65cd47\" class=\"colab-df-container\">\n",
              "    <div>\n",
              "<style scoped>\n",
              "    .dataframe tbody tr th:only-of-type {\n",
              "        vertical-align: middle;\n",
              "    }\n",
              "\n",
              "    .dataframe tbody tr th {\n",
              "        vertical-align: top;\n",
              "    }\n",
              "\n",
              "    .dataframe thead th {\n",
              "        text-align: right;\n",
              "    }\n",
              "</style>\n",
              "<table border=\"1\" class=\"dataframe\">\n",
              "  <thead>\n",
              "    <tr style=\"text-align: right;\">\n",
              "      <th></th>\n",
              "      <th>Linguagens</th>\n",
              "      <th>Ciências humanas</th>\n",
              "      <th>Ciências da natureza</th>\n",
              "      <th>Matemática</th>\n",
              "      <th>Redação</th>\n",
              "      <th>Sexo</th>\n",
              "    </tr>\n",
              "  </thead>\n",
              "  <tbody>\n",
              "    <tr>\n",
              "      <th>0</th>\n",
              "      <td>585.669300</td>\n",
              "      <td>686.512178</td>\n",
              "      <td>390.482473</td>\n",
              "      <td>452.281333</td>\n",
              "      <td>546.371706</td>\n",
              "      <td>Homem</td>\n",
              "    </tr>\n",
              "    <tr>\n",
              "      <th>1</th>\n",
              "      <td>359.384608</td>\n",
              "      <td>642.084134</td>\n",
              "      <td>NaN</td>\n",
              "      <td>412.205207</td>\n",
              "      <td>741.825256</td>\n",
              "      <td>Mulher</td>\n",
              "    </tr>\n",
              "    <tr>\n",
              "      <th>2</th>\n",
              "      <td>622.732384</td>\n",
              "      <td>495.510719</td>\n",
              "      <td>443.183580</td>\n",
              "      <td>669.683401</td>\n",
              "      <td>684.515750</td>\n",
              "      <td>Homem</td>\n",
              "    </tr>\n",
              "    <tr>\n",
              "      <th>3</th>\n",
              "      <td>350.164605</td>\n",
              "      <td>602.041588</td>\n",
              "      <td>413.979810</td>\n",
              "      <td>676.608952</td>\n",
              "      <td>671.237114</td>\n",
              "      <td>Homem</td>\n",
              "    </tr>\n",
              "    <tr>\n",
              "      <th>4</th>\n",
              "      <td>384.093657</td>\n",
              "      <td>489.249140</td>\n",
              "      <td>609.758123</td>\n",
              "      <td>520.426698</td>\n",
              "      <td>744.375048</td>\n",
              "      <td>Homem</td>\n",
              "    </tr>\n",
              "    <tr>\n",
              "      <th>5</th>\n",
              "      <td>616.043360</td>\n",
              "      <td>502.007005</td>\n",
              "      <td>497.777935</td>\n",
              "      <td>615.902547</td>\n",
              "      <td>507.365147</td>\n",
              "      <td>Homem</td>\n",
              "    </tr>\n",
              "    <tr>\n",
              "      <th>6</th>\n",
              "      <td>511.897593</td>\n",
              "      <td>479.197660</td>\n",
              "      <td>469.023899</td>\n",
              "      <td>441.139103</td>\n",
              "      <td>541.979136</td>\n",
              "      <td>Mulher</td>\n",
              "    </tr>\n",
              "    <tr>\n",
              "      <th>7</th>\n",
              "      <td>377.439818</td>\n",
              "      <td>663.489624</td>\n",
              "      <td>556.239031</td>\n",
              "      <td>517.215575</td>\n",
              "      <td>635.424649</td>\n",
              "      <td>Mulher</td>\n",
              "    </tr>\n",
              "    <tr>\n",
              "      <th>8</th>\n",
              "      <td>597.462934</td>\n",
              "      <td>NaN</td>\n",
              "      <td>483.223740</td>\n",
              "      <td>509.043317</td>\n",
              "      <td>499.676936</td>\n",
              "      <td>Mulher</td>\n",
              "    </tr>\n",
              "    <tr>\n",
              "      <th>9</th>\n",
              "      <td>536.571398</td>\n",
              "      <td>594.007869</td>\n",
              "      <td>NaN</td>\n",
              "      <td>595.562778</td>\n",
              "      <td>270.839965</td>\n",
              "      <td>Mulher</td>\n",
              "    </tr>\n",
              "  </tbody>\n",
              "</table>\n",
              "</div>\n",
              "    <div class=\"colab-df-buttons\">\n",
              "\n",
              "  <div class=\"colab-df-container\">\n",
              "    <button class=\"colab-df-convert\" onclick=\"convertToInteractive('df-15acfa83-0a50-4330-817c-eb1daf65cd47')\"\n",
              "            title=\"Convert this dataframe to an interactive table.\"\n",
              "            style=\"display:none;\">\n",
              "\n",
              "  <svg xmlns=\"http://www.w3.org/2000/svg\" height=\"24px\" viewBox=\"0 -960 960 960\">\n",
              "    <path d=\"M120-120v-720h720v720H120Zm60-500h600v-160H180v160Zm220 220h160v-160H400v160Zm0 220h160v-160H400v160ZM180-400h160v-160H180v160Zm440 0h160v-160H620v160ZM180-180h160v-160H180v160Zm440 0h160v-160H620v160Z\"/>\n",
              "  </svg>\n",
              "    </button>\n",
              "\n",
              "  <style>\n",
              "    .colab-df-container {\n",
              "      display:flex;\n",
              "      gap: 12px;\n",
              "    }\n",
              "\n",
              "    .colab-df-convert {\n",
              "      background-color: #E8F0FE;\n",
              "      border: none;\n",
              "      border-radius: 50%;\n",
              "      cursor: pointer;\n",
              "      display: none;\n",
              "      fill: #1967D2;\n",
              "      height: 32px;\n",
              "      padding: 0 0 0 0;\n",
              "      width: 32px;\n",
              "    }\n",
              "\n",
              "    .colab-df-convert:hover {\n",
              "      background-color: #E2EBFA;\n",
              "      box-shadow: 0px 1px 2px rgba(60, 64, 67, 0.3), 0px 1px 3px 1px rgba(60, 64, 67, 0.15);\n",
              "      fill: #174EA6;\n",
              "    }\n",
              "\n",
              "    .colab-df-buttons div {\n",
              "      margin-bottom: 4px;\n",
              "    }\n",
              "\n",
              "    [theme=dark] .colab-df-convert {\n",
              "      background-color: #3B4455;\n",
              "      fill: #D2E3FC;\n",
              "    }\n",
              "\n",
              "    [theme=dark] .colab-df-convert:hover {\n",
              "      background-color: #434B5C;\n",
              "      box-shadow: 0px 1px 3px 1px rgba(0, 0, 0, 0.15);\n",
              "      filter: drop-shadow(0px 1px 2px rgba(0, 0, 0, 0.3));\n",
              "      fill: #FFFFFF;\n",
              "    }\n",
              "  </style>\n",
              "\n",
              "    <script>\n",
              "      const buttonEl =\n",
              "        document.querySelector('#df-15acfa83-0a50-4330-817c-eb1daf65cd47 button.colab-df-convert');\n",
              "      buttonEl.style.display =\n",
              "        google.colab.kernel.accessAllowed ? 'block' : 'none';\n",
              "\n",
              "      async function convertToInteractive(key) {\n",
              "        const element = document.querySelector('#df-15acfa83-0a50-4330-817c-eb1daf65cd47');\n",
              "        const dataTable =\n",
              "          await google.colab.kernel.invokeFunction('convertToInteractive',\n",
              "                                                    [key], {});\n",
              "        if (!dataTable) return;\n",
              "\n",
              "        const docLinkHtml = 'Like what you see? Visit the ' +\n",
              "          '<a target=\"_blank\" href=https://colab.research.google.com/notebooks/data_table.ipynb>data table notebook</a>'\n",
              "          + ' to learn more about interactive tables.';\n",
              "        element.innerHTML = '';\n",
              "        dataTable['output_type'] = 'display_data';\n",
              "        await google.colab.output.renderOutput(dataTable, element);\n",
              "        const docLink = document.createElement('div');\n",
              "        docLink.innerHTML = docLinkHtml;\n",
              "        element.appendChild(docLink);\n",
              "      }\n",
              "    </script>\n",
              "  </div>\n",
              "\n",
              "\n",
              "<div id=\"df-40e7feba-c2b2-466b-b995-ded9191776ca\">\n",
              "  <button class=\"colab-df-quickchart\" onclick=\"quickchart('df-40e7feba-c2b2-466b-b995-ded9191776ca')\"\n",
              "            title=\"Suggest charts\"\n",
              "            style=\"display:none;\">\n",
              "\n",
              "<svg xmlns=\"http://www.w3.org/2000/svg\" height=\"24px\"viewBox=\"0 0 24 24\"\n",
              "     width=\"24px\">\n",
              "    <g>\n",
              "        <path d=\"M19 3H5c-1.1 0-2 .9-2 2v14c0 1.1.9 2 2 2h14c1.1 0 2-.9 2-2V5c0-1.1-.9-2-2-2zM9 17H7v-7h2v7zm4 0h-2V7h2v10zm4 0h-2v-4h2v4z\"/>\n",
              "    </g>\n",
              "</svg>\n",
              "  </button>\n",
              "\n",
              "<style>\n",
              "  .colab-df-quickchart {\n",
              "      --bg-color: #E8F0FE;\n",
              "      --fill-color: #1967D2;\n",
              "      --hover-bg-color: #E2EBFA;\n",
              "      --hover-fill-color: #174EA6;\n",
              "      --disabled-fill-color: #AAA;\n",
              "      --disabled-bg-color: #DDD;\n",
              "  }\n",
              "\n",
              "  [theme=dark] .colab-df-quickchart {\n",
              "      --bg-color: #3B4455;\n",
              "      --fill-color: #D2E3FC;\n",
              "      --hover-bg-color: #434B5C;\n",
              "      --hover-fill-color: #FFFFFF;\n",
              "      --disabled-bg-color: #3B4455;\n",
              "      --disabled-fill-color: #666;\n",
              "  }\n",
              "\n",
              "  .colab-df-quickchart {\n",
              "    background-color: var(--bg-color);\n",
              "    border: none;\n",
              "    border-radius: 50%;\n",
              "    cursor: pointer;\n",
              "    display: none;\n",
              "    fill: var(--fill-color);\n",
              "    height: 32px;\n",
              "    padding: 0;\n",
              "    width: 32px;\n",
              "  }\n",
              "\n",
              "  .colab-df-quickchart:hover {\n",
              "    background-color: var(--hover-bg-color);\n",
              "    box-shadow: 0 1px 2px rgba(60, 64, 67, 0.3), 0 1px 3px 1px rgba(60, 64, 67, 0.15);\n",
              "    fill: var(--button-hover-fill-color);\n",
              "  }\n",
              "\n",
              "  .colab-df-quickchart-complete:disabled,\n",
              "  .colab-df-quickchart-complete:disabled:hover {\n",
              "    background-color: var(--disabled-bg-color);\n",
              "    fill: var(--disabled-fill-color);\n",
              "    box-shadow: none;\n",
              "  }\n",
              "\n",
              "  .colab-df-spinner {\n",
              "    border: 2px solid var(--fill-color);\n",
              "    border-color: transparent;\n",
              "    border-bottom-color: var(--fill-color);\n",
              "    animation:\n",
              "      spin 1s steps(1) infinite;\n",
              "  }\n",
              "\n",
              "  @keyframes spin {\n",
              "    0% {\n",
              "      border-color: transparent;\n",
              "      border-bottom-color: var(--fill-color);\n",
              "      border-left-color: var(--fill-color);\n",
              "    }\n",
              "    20% {\n",
              "      border-color: transparent;\n",
              "      border-left-color: var(--fill-color);\n",
              "      border-top-color: var(--fill-color);\n",
              "    }\n",
              "    30% {\n",
              "      border-color: transparent;\n",
              "      border-left-color: var(--fill-color);\n",
              "      border-top-color: var(--fill-color);\n",
              "      border-right-color: var(--fill-color);\n",
              "    }\n",
              "    40% {\n",
              "      border-color: transparent;\n",
              "      border-right-color: var(--fill-color);\n",
              "      border-top-color: var(--fill-color);\n",
              "    }\n",
              "    60% {\n",
              "      border-color: transparent;\n",
              "      border-right-color: var(--fill-color);\n",
              "    }\n",
              "    80% {\n",
              "      border-color: transparent;\n",
              "      border-right-color: var(--fill-color);\n",
              "      border-bottom-color: var(--fill-color);\n",
              "    }\n",
              "    90% {\n",
              "      border-color: transparent;\n",
              "      border-bottom-color: var(--fill-color);\n",
              "    }\n",
              "  }\n",
              "</style>\n",
              "\n",
              "  <script>\n",
              "    async function quickchart(key) {\n",
              "      const quickchartButtonEl =\n",
              "        document.querySelector('#' + key + ' button');\n",
              "      quickchartButtonEl.disabled = true;  // To prevent multiple clicks.\n",
              "      quickchartButtonEl.classList.add('colab-df-spinner');\n",
              "      try {\n",
              "        const charts = await google.colab.kernel.invokeFunction(\n",
              "            'suggestCharts', [key], {});\n",
              "      } catch (error) {\n",
              "        console.error('Error during call to suggestCharts:', error);\n",
              "      }\n",
              "      quickchartButtonEl.classList.remove('colab-df-spinner');\n",
              "      quickchartButtonEl.classList.add('colab-df-quickchart-complete');\n",
              "    }\n",
              "    (() => {\n",
              "      let quickchartButtonEl =\n",
              "        document.querySelector('#df-40e7feba-c2b2-466b-b995-ded9191776ca button');\n",
              "      quickchartButtonEl.style.display =\n",
              "        google.colab.kernel.accessAllowed ? 'block' : 'none';\n",
              "    })();\n",
              "  </script>\n",
              "</div>\n",
              "\n",
              "    </div>\n",
              "  </div>\n"
            ],
            "application/vnd.google.colaboratory.intrinsic+json": {
              "type": "dataframe",
              "variable_name": "enem2023_data",
              "summary": "{\n  \"name\": \"enem2023_data\",\n  \"rows\": 1000,\n  \"fields\": [\n    {\n      \"column\": \"Linguagens\",\n      \"properties\": {\n        \"dtype\": \"number\",\n        \"std\": 84.00931315971195,\n        \"min\": 287.0,\n        \"max\": 804.4563171927,\n        \"num_unique_values\": 896,\n        \"samples\": [\n          638.5729576994,\n          458.5772735297,\n          469.6368972844\n        ],\n        \"semantic_type\": \"\",\n        \"description\": \"\"\n      }\n    },\n    {\n      \"column\": \"Ci\\u00eancias humanas\",\n      \"properties\": {\n        \"dtype\": \"number\",\n        \"std\": 77.81151916399475,\n        \"min\": 289.9,\n        \"max\": 763.9196954613,\n        \"num_unique_values\": 935,\n        \"samples\": [\n          552.953806862,\n          648.4281845758,\n          519.0714634707\n        ],\n        \"semantic_type\": \"\",\n        \"description\": \"\"\n      }\n    },\n    {\n      \"column\": \"Ci\\u00eancias da natureza\",\n      \"properties\": {\n        \"dtype\": \"number\",\n        \"std\": 78.76040369093829,\n        \"min\": 314.4,\n        \"max\": 802.0045683513,\n        \"num_unique_values\": 821,\n        \"samples\": [\n          472.110329659,\n          468.0927320977,\n          391.1238460543\n        ],\n        \"semantic_type\": \"\",\n        \"description\": \"\"\n      }\n    },\n    {\n      \"column\": \"Matem\\u00e1tica\",\n      \"properties\": {\n        \"dtype\": \"number\",\n        \"std\": 86.64810003261275,\n        \"min\": 319.8,\n        \"max\": 807.8779018921,\n        \"num_unique_values\": 918,\n        \"samples\": [\n          577.6921115123,\n          562.8560894807,\n          464.1971411718\n        ],\n        \"semantic_type\": \"\",\n        \"description\": \"\"\n      }\n    },\n    {\n      \"column\": \"Reda\\u00e7\\u00e3o\",\n      \"properties\": {\n        \"dtype\": \"number\",\n        \"std\": 115.33997244479161,\n        \"min\": 270.8399648605,\n        \"max\": 1000.0,\n        \"num_unique_values\": 860,\n        \"samples\": [\n          482.1791420587,\n          687.1614107203,\n          572.6498716449\n        ],\n        \"semantic_type\": \"\",\n        \"description\": \"\"\n      }\n    },\n    {\n      \"column\": \"Sexo\",\n      \"properties\": {\n        \"dtype\": \"category\",\n        \"num_unique_values\": 3,\n        \"samples\": [\n          \"Homem\",\n          \"Mulher\",\n          \"N\\u00e3o idenficado\"\n        ],\n        \"semantic_type\": \"\",\n        \"description\": \"\"\n      }\n    }\n  ]\n}"
            }
          },
          "metadata": {},
          "execution_count": 6
        }
      ]
    },
    {
      "cell_type": "code",
      "source": [
        "enem2023_data.info()"
      ],
      "metadata": {
        "colab": {
          "base_uri": "https://localhost:8080/"
        },
        "id": "fPNiJo_2syvo",
        "outputId": "585a3422-9591-4cea-e592-e4a9c7b4b4e8"
      },
      "execution_count": null,
      "outputs": [
        {
          "output_type": "stream",
          "name": "stdout",
          "text": [
            "<class 'pandas.core.frame.DataFrame'>\n",
            "Index: 1000 entries, 0 to 999\n",
            "Data columns (total 6 columns):\n",
            " #   Column                Non-Null Count  Dtype  \n",
            "---  ------                --------------  -----  \n",
            " 0   Linguagens            897 non-null    float64\n",
            " 1   Ciências humanas      936 non-null    float64\n",
            " 2   Ciências da natureza  824 non-null    float64\n",
            " 3   Matemática            924 non-null    float64\n",
            " 4   Redação               860 non-null    float64\n",
            " 5   Sexo                  1000 non-null   object \n",
            "dtypes: float64(5), object(1)\n",
            "memory usage: 54.7+ KB\n"
          ]
        }
      ]
    },
    {
      "cell_type": "code",
      "source": [
        "enem2023_data.shape"
      ],
      "metadata": {
        "colab": {
          "base_uri": "https://localhost:8080/"
        },
        "id": "DBRyoKNYs9Rm",
        "outputId": "dd43e7fd-1acb-4c43-8f9d-dc9238c55199"
      },
      "execution_count": null,
      "outputs": [
        {
          "output_type": "execute_result",
          "data": {
            "text/plain": [
              "(1000, 6)"
            ]
          },
          "metadata": {},
          "execution_count": 8
        }
      ]
    },
    {
      "cell_type": "code",
      "source": [
        "enem2023_data.describe()"
      ],
      "metadata": {
        "colab": {
          "base_uri": "https://localhost:8080/",
          "height": 300
        },
        "id": "CWdgscc5tEca",
        "outputId": "5638894e-27af-4dc3-c811-b549f50bf08c"
      },
      "execution_count": null,
      "outputs": [
        {
          "output_type": "execute_result",
          "data": {
            "text/plain": [
              "       Linguagens  Ciências humanas  Ciências da natureza  Matemática  \\\n",
              "count  897.000000        936.000000            824.000000  924.000000   \n",
              "mean   514.524809        527.042281            499.315583  535.965660   \n",
              "std     84.009313         77.811519             78.760404   86.648100   \n",
              "min    287.000000        289.900000            314.400000  319.800000   \n",
              "25%    458.360558        475.424546            444.709076  479.172971   \n",
              "50%    515.045250        524.519920            500.479263  533.247767   \n",
              "75%    571.635876        581.401952            548.751678  592.912963   \n",
              "max    804.456317        763.919695            802.004568  807.877902   \n",
              "\n",
              "           Redação  \n",
              "count   860.000000  \n",
              "mean    637.783532  \n",
              "std     115.339972  \n",
              "min     270.839965  \n",
              "25%     556.468366  \n",
              "50%     635.273973  \n",
              "75%     715.989868  \n",
              "max    1000.000000  "
            ],
            "text/html": [
              "\n",
              "  <div id=\"df-1985d0c3-c6b9-4e4e-ba0b-c175d15a3444\" class=\"colab-df-container\">\n",
              "    <div>\n",
              "<style scoped>\n",
              "    .dataframe tbody tr th:only-of-type {\n",
              "        vertical-align: middle;\n",
              "    }\n",
              "\n",
              "    .dataframe tbody tr th {\n",
              "        vertical-align: top;\n",
              "    }\n",
              "\n",
              "    .dataframe thead th {\n",
              "        text-align: right;\n",
              "    }\n",
              "</style>\n",
              "<table border=\"1\" class=\"dataframe\">\n",
              "  <thead>\n",
              "    <tr style=\"text-align: right;\">\n",
              "      <th></th>\n",
              "      <th>Linguagens</th>\n",
              "      <th>Ciências humanas</th>\n",
              "      <th>Ciências da natureza</th>\n",
              "      <th>Matemática</th>\n",
              "      <th>Redação</th>\n",
              "    </tr>\n",
              "  </thead>\n",
              "  <tbody>\n",
              "    <tr>\n",
              "      <th>count</th>\n",
              "      <td>897.000000</td>\n",
              "      <td>936.000000</td>\n",
              "      <td>824.000000</td>\n",
              "      <td>924.000000</td>\n",
              "      <td>860.000000</td>\n",
              "    </tr>\n",
              "    <tr>\n",
              "      <th>mean</th>\n",
              "      <td>514.524809</td>\n",
              "      <td>527.042281</td>\n",
              "      <td>499.315583</td>\n",
              "      <td>535.965660</td>\n",
              "      <td>637.783532</td>\n",
              "    </tr>\n",
              "    <tr>\n",
              "      <th>std</th>\n",
              "      <td>84.009313</td>\n",
              "      <td>77.811519</td>\n",
              "      <td>78.760404</td>\n",
              "      <td>86.648100</td>\n",
              "      <td>115.339972</td>\n",
              "    </tr>\n",
              "    <tr>\n",
              "      <th>min</th>\n",
              "      <td>287.000000</td>\n",
              "      <td>289.900000</td>\n",
              "      <td>314.400000</td>\n",
              "      <td>319.800000</td>\n",
              "      <td>270.839965</td>\n",
              "    </tr>\n",
              "    <tr>\n",
              "      <th>25%</th>\n",
              "      <td>458.360558</td>\n",
              "      <td>475.424546</td>\n",
              "      <td>444.709076</td>\n",
              "      <td>479.172971</td>\n",
              "      <td>556.468366</td>\n",
              "    </tr>\n",
              "    <tr>\n",
              "      <th>50%</th>\n",
              "      <td>515.045250</td>\n",
              "      <td>524.519920</td>\n",
              "      <td>500.479263</td>\n",
              "      <td>533.247767</td>\n",
              "      <td>635.273973</td>\n",
              "    </tr>\n",
              "    <tr>\n",
              "      <th>75%</th>\n",
              "      <td>571.635876</td>\n",
              "      <td>581.401952</td>\n",
              "      <td>548.751678</td>\n",
              "      <td>592.912963</td>\n",
              "      <td>715.989868</td>\n",
              "    </tr>\n",
              "    <tr>\n",
              "      <th>max</th>\n",
              "      <td>804.456317</td>\n",
              "      <td>763.919695</td>\n",
              "      <td>802.004568</td>\n",
              "      <td>807.877902</td>\n",
              "      <td>1000.000000</td>\n",
              "    </tr>\n",
              "  </tbody>\n",
              "</table>\n",
              "</div>\n",
              "    <div class=\"colab-df-buttons\">\n",
              "\n",
              "  <div class=\"colab-df-container\">\n",
              "    <button class=\"colab-df-convert\" onclick=\"convertToInteractive('df-1985d0c3-c6b9-4e4e-ba0b-c175d15a3444')\"\n",
              "            title=\"Convert this dataframe to an interactive table.\"\n",
              "            style=\"display:none;\">\n",
              "\n",
              "  <svg xmlns=\"http://www.w3.org/2000/svg\" height=\"24px\" viewBox=\"0 -960 960 960\">\n",
              "    <path d=\"M120-120v-720h720v720H120Zm60-500h600v-160H180v160Zm220 220h160v-160H400v160Zm0 220h160v-160H400v160ZM180-400h160v-160H180v160Zm440 0h160v-160H620v160ZM180-180h160v-160H180v160Zm440 0h160v-160H620v160Z\"/>\n",
              "  </svg>\n",
              "    </button>\n",
              "\n",
              "  <style>\n",
              "    .colab-df-container {\n",
              "      display:flex;\n",
              "      gap: 12px;\n",
              "    }\n",
              "\n",
              "    .colab-df-convert {\n",
              "      background-color: #E8F0FE;\n",
              "      border: none;\n",
              "      border-radius: 50%;\n",
              "      cursor: pointer;\n",
              "      display: none;\n",
              "      fill: #1967D2;\n",
              "      height: 32px;\n",
              "      padding: 0 0 0 0;\n",
              "      width: 32px;\n",
              "    }\n",
              "\n",
              "    .colab-df-convert:hover {\n",
              "      background-color: #E2EBFA;\n",
              "      box-shadow: 0px 1px 2px rgba(60, 64, 67, 0.3), 0px 1px 3px 1px rgba(60, 64, 67, 0.15);\n",
              "      fill: #174EA6;\n",
              "    }\n",
              "\n",
              "    .colab-df-buttons div {\n",
              "      margin-bottom: 4px;\n",
              "    }\n",
              "\n",
              "    [theme=dark] .colab-df-convert {\n",
              "      background-color: #3B4455;\n",
              "      fill: #D2E3FC;\n",
              "    }\n",
              "\n",
              "    [theme=dark] .colab-df-convert:hover {\n",
              "      background-color: #434B5C;\n",
              "      box-shadow: 0px 1px 3px 1px rgba(0, 0, 0, 0.15);\n",
              "      filter: drop-shadow(0px 1px 2px rgba(0, 0, 0, 0.3));\n",
              "      fill: #FFFFFF;\n",
              "    }\n",
              "  </style>\n",
              "\n",
              "    <script>\n",
              "      const buttonEl =\n",
              "        document.querySelector('#df-1985d0c3-c6b9-4e4e-ba0b-c175d15a3444 button.colab-df-convert');\n",
              "      buttonEl.style.display =\n",
              "        google.colab.kernel.accessAllowed ? 'block' : 'none';\n",
              "\n",
              "      async function convertToInteractive(key) {\n",
              "        const element = document.querySelector('#df-1985d0c3-c6b9-4e4e-ba0b-c175d15a3444');\n",
              "        const dataTable =\n",
              "          await google.colab.kernel.invokeFunction('convertToInteractive',\n",
              "                                                    [key], {});\n",
              "        if (!dataTable) return;\n",
              "\n",
              "        const docLinkHtml = 'Like what you see? Visit the ' +\n",
              "          '<a target=\"_blank\" href=https://colab.research.google.com/notebooks/data_table.ipynb>data table notebook</a>'\n",
              "          + ' to learn more about interactive tables.';\n",
              "        element.innerHTML = '';\n",
              "        dataTable['output_type'] = 'display_data';\n",
              "        await google.colab.output.renderOutput(dataTable, element);\n",
              "        const docLink = document.createElement('div');\n",
              "        docLink.innerHTML = docLinkHtml;\n",
              "        element.appendChild(docLink);\n",
              "      }\n",
              "    </script>\n",
              "  </div>\n",
              "\n",
              "\n",
              "<div id=\"df-4fac86cd-e944-4103-a779-363306cb5cdf\">\n",
              "  <button class=\"colab-df-quickchart\" onclick=\"quickchart('df-4fac86cd-e944-4103-a779-363306cb5cdf')\"\n",
              "            title=\"Suggest charts\"\n",
              "            style=\"display:none;\">\n",
              "\n",
              "<svg xmlns=\"http://www.w3.org/2000/svg\" height=\"24px\"viewBox=\"0 0 24 24\"\n",
              "     width=\"24px\">\n",
              "    <g>\n",
              "        <path d=\"M19 3H5c-1.1 0-2 .9-2 2v14c0 1.1.9 2 2 2h14c1.1 0 2-.9 2-2V5c0-1.1-.9-2-2-2zM9 17H7v-7h2v7zm4 0h-2V7h2v10zm4 0h-2v-4h2v4z\"/>\n",
              "    </g>\n",
              "</svg>\n",
              "  </button>\n",
              "\n",
              "<style>\n",
              "  .colab-df-quickchart {\n",
              "      --bg-color: #E8F0FE;\n",
              "      --fill-color: #1967D2;\n",
              "      --hover-bg-color: #E2EBFA;\n",
              "      --hover-fill-color: #174EA6;\n",
              "      --disabled-fill-color: #AAA;\n",
              "      --disabled-bg-color: #DDD;\n",
              "  }\n",
              "\n",
              "  [theme=dark] .colab-df-quickchart {\n",
              "      --bg-color: #3B4455;\n",
              "      --fill-color: #D2E3FC;\n",
              "      --hover-bg-color: #434B5C;\n",
              "      --hover-fill-color: #FFFFFF;\n",
              "      --disabled-bg-color: #3B4455;\n",
              "      --disabled-fill-color: #666;\n",
              "  }\n",
              "\n",
              "  .colab-df-quickchart {\n",
              "    background-color: var(--bg-color);\n",
              "    border: none;\n",
              "    border-radius: 50%;\n",
              "    cursor: pointer;\n",
              "    display: none;\n",
              "    fill: var(--fill-color);\n",
              "    height: 32px;\n",
              "    padding: 0;\n",
              "    width: 32px;\n",
              "  }\n",
              "\n",
              "  .colab-df-quickchart:hover {\n",
              "    background-color: var(--hover-bg-color);\n",
              "    box-shadow: 0 1px 2px rgba(60, 64, 67, 0.3), 0 1px 3px 1px rgba(60, 64, 67, 0.15);\n",
              "    fill: var(--button-hover-fill-color);\n",
              "  }\n",
              "\n",
              "  .colab-df-quickchart-complete:disabled,\n",
              "  .colab-df-quickchart-complete:disabled:hover {\n",
              "    background-color: var(--disabled-bg-color);\n",
              "    fill: var(--disabled-fill-color);\n",
              "    box-shadow: none;\n",
              "  }\n",
              "\n",
              "  .colab-df-spinner {\n",
              "    border: 2px solid var(--fill-color);\n",
              "    border-color: transparent;\n",
              "    border-bottom-color: var(--fill-color);\n",
              "    animation:\n",
              "      spin 1s steps(1) infinite;\n",
              "  }\n",
              "\n",
              "  @keyframes spin {\n",
              "    0% {\n",
              "      border-color: transparent;\n",
              "      border-bottom-color: var(--fill-color);\n",
              "      border-left-color: var(--fill-color);\n",
              "    }\n",
              "    20% {\n",
              "      border-color: transparent;\n",
              "      border-left-color: var(--fill-color);\n",
              "      border-top-color: var(--fill-color);\n",
              "    }\n",
              "    30% {\n",
              "      border-color: transparent;\n",
              "      border-left-color: var(--fill-color);\n",
              "      border-top-color: var(--fill-color);\n",
              "      border-right-color: var(--fill-color);\n",
              "    }\n",
              "    40% {\n",
              "      border-color: transparent;\n",
              "      border-right-color: var(--fill-color);\n",
              "      border-top-color: var(--fill-color);\n",
              "    }\n",
              "    60% {\n",
              "      border-color: transparent;\n",
              "      border-right-color: var(--fill-color);\n",
              "    }\n",
              "    80% {\n",
              "      border-color: transparent;\n",
              "      border-right-color: var(--fill-color);\n",
              "      border-bottom-color: var(--fill-color);\n",
              "    }\n",
              "    90% {\n",
              "      border-color: transparent;\n",
              "      border-bottom-color: var(--fill-color);\n",
              "    }\n",
              "  }\n",
              "</style>\n",
              "\n",
              "  <script>\n",
              "    async function quickchart(key) {\n",
              "      const quickchartButtonEl =\n",
              "        document.querySelector('#' + key + ' button');\n",
              "      quickchartButtonEl.disabled = true;  // To prevent multiple clicks.\n",
              "      quickchartButtonEl.classList.add('colab-df-spinner');\n",
              "      try {\n",
              "        const charts = await google.colab.kernel.invokeFunction(\n",
              "            'suggestCharts', [key], {});\n",
              "      } catch (error) {\n",
              "        console.error('Error during call to suggestCharts:', error);\n",
              "      }\n",
              "      quickchartButtonEl.classList.remove('colab-df-spinner');\n",
              "      quickchartButtonEl.classList.add('colab-df-quickchart-complete');\n",
              "    }\n",
              "    (() => {\n",
              "      let quickchartButtonEl =\n",
              "        document.querySelector('#df-4fac86cd-e944-4103-a779-363306cb5cdf button');\n",
              "      quickchartButtonEl.style.display =\n",
              "        google.colab.kernel.accessAllowed ? 'block' : 'none';\n",
              "    })();\n",
              "  </script>\n",
              "</div>\n",
              "\n",
              "    </div>\n",
              "  </div>\n"
            ],
            "application/vnd.google.colaboratory.intrinsic+json": {
              "type": "dataframe",
              "summary": "{\n  \"name\": \"enem2023_data\",\n  \"rows\": 8,\n  \"fields\": [\n    {\n      \"column\": \"Linguagens\",\n      \"properties\": {\n        \"dtype\": \"number\",\n        \"std\": 260.1767838163819,\n        \"min\": 84.00931315971195,\n        \"max\": 897.0,\n        \"num_unique_values\": 8,\n        \"samples\": [\n          514.5248092106333,\n          515.0452497632,\n          897.0\n        ],\n        \"semantic_type\": \"\",\n        \"description\": \"\"\n      }\n    },\n    {\n      \"column\": \"Ci\\u00eancias humanas\",\n      \"properties\": {\n        \"dtype\": \"number\",\n        \"std\": 263.71645891458803,\n        \"min\": 77.81151916399475,\n        \"max\": 936.0,\n        \"num_unique_values\": 8,\n        \"samples\": [\n          527.0422808644046,\n          524.51992005745,\n          936.0\n        ],\n        \"semantic_type\": \"\",\n        \"description\": \"\"\n      }\n    },\n    {\n      \"column\": \"Ci\\u00eancias da natureza\",\n      \"properties\": {\n        \"dtype\": \"number\",\n        \"std\": 243.04266042185378,\n        \"min\": 78.76040369093829,\n        \"max\": 824.0,\n        \"num_unique_values\": 8,\n        \"samples\": [\n          499.3155828489798,\n          500.47926306565,\n          824.0\n        ],\n        \"semantic_type\": \"\",\n        \"description\": \"\"\n      }\n    },\n    {\n      \"column\": \"Matem\\u00e1tica\",\n      \"properties\": {\n        \"dtype\": \"number\",\n        \"std\": 261.7491627218222,\n        \"min\": 86.64810003261275,\n        \"max\": 924.0,\n        \"num_unique_values\": 8,\n        \"samples\": [\n          535.9656600928728,\n          533.2477669785001,\n          924.0\n        ],\n        \"semantic_type\": \"\",\n        \"description\": \"\"\n      }\n    },\n    {\n      \"column\": \"Reda\\u00e7\\u00e3o\",\n      \"properties\": {\n        \"dtype\": \"number\",\n        \"std\": 290.037818244487,\n        \"min\": 115.33997244479161,\n        \"max\": 1000.0,\n        \"num_unique_values\": 8,\n        \"samples\": [\n          637.7835320695872,\n          635.27397319435,\n          860.0\n        ],\n        \"semantic_type\": \"\",\n        \"description\": \"\"\n      }\n    }\n  ]\n}"
            }
          },
          "metadata": {},
          "execution_count": 9
        }
      ]
    },
    {
      "cell_type": "markdown",
      "source": [
        "1. Qual das disciplinas tem a maior amplitude de nota?"
      ],
      "metadata": {
        "id": "q-sE9-6CvNea"
      }
    },
    {
      "cell_type": "code",
      "source": [
        "disciplinas_enem = enem2023_data.columns.difference(['sexo'])\n",
        "\n",
        "maior_amplitude_nota = 0\n",
        "disciplina_maior_amplitude = ''\n",
        "\n",
        "for disciplina in disciplinas_enem:\n",
        "  enem2023_data.loc[:, disciplina] = pd.to_numeric(enem2023_data.loc[:, disciplina], errors='coerce')\n",
        "  amplitude = enem2023_data.loc[:, disciplina].max() - enem2023_data.loc[:, disciplina].min()\n",
        "  if amplitude > maior_amplitude_nota:\n",
        "        maior_amplitude_nota = amplitude\n",
        "        disciplina_maior_amplitude = disciplina\n",
        "\n",
        "\n",
        "# Exibir o resultado\n",
        "print(f\"Disciplina com maior amplitude é {disciplina_maior_amplitude}, o valor da amplitude é {maior_amplitude_nota:.2f}.\")"
      ],
      "metadata": {
        "colab": {
          "base_uri": "https://localhost:8080/"
        },
        "id": "bacidbBNvG9n",
        "outputId": "be5dcaf7-61b7-4327-c706-b091ad74ad28"
      },
      "execution_count": null,
      "outputs": [
        {
          "output_type": "stream",
          "name": "stdout",
          "text": [
            "Disciplina com maior amplitude é Redação, o valor da amplitude é 729.16.\n"
          ]
        }
      ]
    },
    {
      "cell_type": "markdown",
      "source": [
        "2. Qual é a média e a mediana para cadaumadasdisciplinas? (Lembre-se de remover todos os valores nulos quando considerar a mediana)"
      ],
      "metadata": {
        "id": "AvdFXbFh08gr"
      }
    },
    {
      "cell_type": "code",
      "source": [
        "disciplinas_enem = enem2023_data.columns.difference(['sexo'])\n",
        "\n",
        "\n",
        "for disciplina in disciplinas_enem:\n",
        "    enem2023_data[disciplina] = pd.to_numeric(enem2023_data[disciplina], errors='coerce')\n",
        "    media = enem2023_data[disciplina].mean()\n",
        "    mediana = enem2023_data[disciplina].median(skipna=True)\n",
        "\n",
        "    print(f\"{disciplina}, Média: {media:.2f}, Mediana: {mediana:.2f}\")"
      ],
      "metadata": {
        "colab": {
          "base_uri": "https://localhost:8080/"
        },
        "id": "LiDoCE351CZo",
        "outputId": "f894613f-0212-4fc4-e6c5-1ea517a6cb1f"
      },
      "execution_count": null,
      "outputs": [
        {
          "output_type": "stream",
          "name": "stdout",
          "text": [
            "Ciências da natureza, Média: 499.32, Mediana: 500.48\n",
            "Ciências humanas, Média: 527.04, Mediana: 524.52\n",
            "Linguagens, Média: 514.52, Mediana: 515.05\n",
            "Matemática, Média: 535.97, Mediana: 533.25\n",
            "Redação, Média: 637.78, Mediana: 635.27\n",
            "Sexo, Média: nan, Mediana: nan\n"
          ]
        },
        {
          "output_type": "stream",
          "name": "stderr",
          "text": [
            "/usr/local/lib/python3.10/dist-packages/numpy/lib/nanfunctions.py:1215: RuntimeWarning: Mean of empty slice\n",
            "  return np.nanmean(a, axis, out=out, keepdims=keepdims)\n"
          ]
        }
      ]
    },
    {
      "cell_type": "markdown",
      "source": [
        "3. Considerando o curso de Ciência da Computação da UFPE, onde o peso cada umadasdisciplinas ponderado: a. Redação- 2 b. Matemática e suas Tecnologias- 4 c. Linguagens, Códigos e suas Tecnologias- 2 d. Ciências Humanas e suas Tecnologias- 1 e. Ciências da Natureza e suas Tecnologias- 1 Qual o desvio padrão e média das notas dos 500 estudantes mais bem colocados considerando esses pesos?"
      ],
      "metadata": {
        "id": "sLS66vJx3CRv"
      }
    },
    {
      "cell_type": "code",
      "source": [
        "for coluna in enem2023_data.columns.difference(['sexo']):\n",
        "  enem2023_data[coluna] = pd.to_numeric(enem2023_data[coluna], errors='coerce')\n",
        "\n",
        "#enem2023_data = enem2023_data.dropna(subset=['Redação', 'Matemática', 'Linguagens', 'Ciências humanas', 'Ciências da natureza'])\n",
        "\n",
        "\n",
        "pesos = {'Redação': 2, 'Matemática':4, 'Linguagens': 2, 'Ciências humanas': 1, 'Ciências da natureza': 1}\n",
        "\n",
        "enem2023_data['nota'] = (\n",
        "    enem2023_data['Redação'] * pesos['Redação'] +\n",
        "    enem2023_data['Matemática'] * pesos['Matemática'] +\n",
        "    enem2023_data['Linguagens'] * pesos['Linguagens'] +\n",
        "    enem2023_data['Ciências humanas'] * pesos['Ciências humanas'] +\n",
        "    enem2023_data['Ciências da natureza'] * pesos['Ciências da natureza']\n",
        ")\n",
        "\n",
        "melhores500_alunos = enem2023_data.nlargest(500, 'nota')\n",
        "media = melhores500_alunos['nota'].mean()\n",
        "desvio_padrao = melhores500_alunos['nota'].std()\n",
        "\n",
        "print(f\"Média: {media:.2f}\")\n",
        "print(f\"Desvio Padrão: {desvio_padrao:.2f}\")"
      ],
      "metadata": {
        "colab": {
          "base_uri": "https://localhost:8080/"
        },
        "id": "LsN517PW3Dlx",
        "outputId": "36aa81f4-6d38-46b3-9293-1b1fc4e9d27c"
      },
      "execution_count": null,
      "outputs": [
        {
          "output_type": "stream",
          "name": "stdout",
          "text": [
            "Média: 5572.90\n",
            "Desvio Padrão: 404.36\n"
          ]
        }
      ]
    },
    {
      "cell_type": "markdown",
      "source": [
        "4. Se todos esses estudantes aplicassem para ciência da computação e existem apenas 40 vagas, qual seria a variância e média da nota dos estudantes que entraram no curso de ciência da computação?"
      ],
      "metadata": {
        "id": "xHRG_tKy6GBr"
      }
    },
    {
      "cell_type": "code",
      "source": [
        "for coluna in enem2023_data.columns.difference(['sexo']):\n",
        "  enem2023_data[coluna] = pd.to_numeric(enem2023_data[coluna], errors='coerce')\n",
        "\n",
        "#enem2023_data = enem2023_data.dropna(subset=['Redação', 'Matemática', 'Linguagens', 'Ciências humanas', 'Ciências da natureza'])\n",
        "\n",
        "pesos = {'Redação': 2, 'Matemática':4, 'Linguagens': 2, 'Ciências humanas': 1, 'Ciências da natureza': 1}\n",
        "\n",
        "enem2023_data['nota'] = (\n",
        "    enem2023_data['Redação'] * pesos['Redação'] +\n",
        "    enem2023_data['Matemática'] * pesos['Matemática'] +\n",
        "    enem2023_data['Linguagens'] * pesos['Linguagens'] +\n",
        "    enem2023_data['Ciências humanas'] * pesos['Ciências humanas'] +\n",
        "    enem2023_data['Ciências da natureza'] * pesos['Ciências da natureza']\n",
        ")\n",
        "\n",
        "melhores40_alunos = enem2023_data.nlargest(40, 'nota')\n",
        "media = melhores40_alunos['nota'].mean()\n",
        "variancia = melhores40_alunos['nota'].var()\n",
        "\n",
        "print(f\"Média: {media:.2f}\")\n",
        "print(f\"Variancia: {variancia:.2f}\")"
      ],
      "metadata": {
        "colab": {
          "base_uri": "https://localhost:8080/"
        },
        "id": "kMVu2BPv8kqA",
        "outputId": "9b650c84-cba5-4e1d-db6e-295d75118ad7"
      },
      "execution_count": null,
      "outputs": [
        {
          "output_type": "stream",
          "name": "stdout",
          "text": [
            "Média: 6366.83\n",
            "Variancia: 29576.75\n"
          ]
        }
      ]
    },
    {
      "cell_type": "markdown",
      "source": [
        "5. Qual o valor do teto do terceiro quartil para as disciplinas de matemática e linguagens?"
      ],
      "metadata": {
        "id": "OiUWX5iM94yO"
      }
    },
    {
      "cell_type": "code",
      "source": [
        "for coluna in ['Matemática', 'Linguagens']:enem2023_data[coluna] = pd.to_numeric(enem2023_data[coluna], errors='coerce')\n",
        "\n",
        "percentil_matematica = enem2023_data['Matemática'].quantile(0.75, interpolation='higher')\n",
        "percentil_linguagens = enem2023_data['Linguagens'].quantile(0.75, interpolation='higher')\n",
        "\n",
        "print(f\"Valor teto do terceiro quartil Matemática: {percentil_matematica:.2f}\")\n",
        "print(f\"Valor teto do terceiro quartil Linguagens: {percentil_linguagens:.2f}\")"
      ],
      "metadata": {
        "colab": {
          "base_uri": "https://localhost:8080/"
        },
        "id": "DpMFJg1i96zg",
        "outputId": "25649d46-ec8a-44e1-9a91-d7508e2cc731"
      },
      "execution_count": null,
      "outputs": [
        {
          "output_type": "stream",
          "name": "stdout",
          "text": [
            "Valor teto do terceiro quartil Matemática: 593.50\n",
            "Valor teto do terceiro quartil Linguagens: 571.64\n"
          ]
        }
      ]
    },
    {
      "cell_type": "markdown",
      "source": [
        "6. Faça o histograma de Redação e Linguagens, de 20 em 20 pontos. Podemos dizer que são histogramas simétricos, justifique e classifique se não assimétricas?"
      ],
      "metadata": {
        "id": "WB3Kya3697VE"
      }
    },
    {
      "cell_type": "code",
      "source": [
        "for coluna in ['Redação', 'Linguagens']:\n",
        "    enem2023_data[coluna] = pd.to_numeric(enem2023_data[coluna], errors='coerce')\n",
        "\n",
        "plt.figure(figsize=(12, 6))\n",
        "\n",
        "# Histograma para Redação\n",
        "plt.subplot(1, 2, 1)\n",
        "plt.hist(enem2023_data['Redação'].dropna(), bins=range(int(enem2023_data['Redação'].min()), int(enem2023_data['Redação'].max()) + 20, 20), edgecolor='black')\n",
        "plt.title('Histograma de Redação')\n",
        "plt.xlabel('Nota')\n",
        "plt.ylabel('Frequência')\n",
        "\n",
        "# Histograma Linguagens\n",
        "plt.subplot(1, 2, 2)\n",
        "plt.hist(enem2023_data['Linguagens'].dropna(), bins=range(int(enem2023_data['Linguagens'].min()), int(enem2023_data['Linguagens'].max()) + 20, 20), edgecolor='black')\n",
        "plt.title('Histograma de Linguagens')\n",
        "plt.xlabel('Nota')\n",
        "plt.ylabel('Frequência')\n",
        "\n",
        "# Exibir os histogramas\n",
        "plt.tight_layout()\n",
        "plt.show()"
      ],
      "metadata": {
        "colab": {
          "base_uri": "https://localhost:8080/",
          "height": 484
        },
        "id": "yjOH0fsu-AKD",
        "outputId": "2c6ad481-4e7b-4073-e9e7-42a0dcb8e240"
      },
      "execution_count": null,
      "outputs": [
        {
          "output_type": "display_data",
          "data": {
            "text/plain": [
              "<Figure size 1200x600 with 2 Axes>"
            ],
            "image/png": "[encoded data removed]"
          },
          "metadata": {}
        }
      ]
    },
    {
      "cell_type": "markdown",
      "source": [
        "São simétricos, pois os valoresdos lados são próximos ou iguais."
      ],
      "metadata": {
        "id": "ckb_P8mp_C4S"
      }
    },
    {
      "cell_type": "markdown",
      "source": [
        "7. Agora coloque um range fixo de 0 até 1000, você ainda tem a mesma opinião quanto a simetria? [plt.hist(dado, bins=_, range=[0, 1000])"
      ],
      "metadata": {
        "id": "TQbdKdLH_TAP"
      }
    },
    {
      "cell_type": "code",
      "source": [
        "for coluna in ['Redação', 'Linguagens']:\n",
        "    enem2023_data[coluna] = pd.to_numeric(enem2023_data[coluna], errors='coerce')\n",
        "\n",
        "plt.figure(figsize=(12, 6))\n",
        "\n",
        "# Histograma para Redação\n",
        "plt.subplot(1, 2, 1)\n",
        "plt.hist(enem2023_data['Redação'].dropna(), bins=range(0, 1001, 20), edgecolor='black', range=[0, 1000])\n",
        "plt.title('Histograma de Redação')\n",
        "plt.xlabel('Nota')\n",
        "plt.ylabel('Frequência')\n",
        "\n",
        "# Histograma para Linguagens\n",
        "plt.subplot(1, 2, 2)\n",
        "plt.hist(enem2023_data['Linguagens'].dropna(), bins=range(0, 1001, 20), edgecolor='black', range=[0, 1000])\n",
        "plt.title('Histograma de Linguagens')\n",
        "plt.xlabel('Nota')\n",
        "plt.ylabel('Frequência')\n",
        "\n",
        "plt.tight_layout()\n",
        "plt.show()"
      ],
      "metadata": {
        "colab": {
          "base_uri": "https://localhost:8080/",
          "height": 484
        },
        "id": "J2lQEBfN_Yc6",
        "outputId": "01b12e4d-9d79-4a27-df66-c4711851aa9e"
      },
      "execution_count": null,
      "outputs": [
        {
          "output_type": "display_data",
          "data": {
            "text/plain": [
              "<Figure size 1200x600 with 2 Axes>"
            ],
            "image/png": "[encoded data removed]"
          },
          "metadata": {}
        }
      ]
    },
    {
      "cell_type": "markdown",
      "source": [
        "Permanece simétrico."
      ],
      "metadata": {
        "id": "XfnF9-G7ATqA"
      }
    },
    {
      "cell_type": "markdown",
      "source": [
        "8. Faça um boxplot do quartil de todas as disciplinas de ciências da natureza e redação. É possível enxergar outliers? Utilize o método IQR."
      ],
      "metadata": {
        "id": "aOCiMch2_ZXU"
      }
    },
    {
      "cell_type": "code",
      "source": [
        "#for coluna in ['Ciências da natureza', 'Redação']:enem2023_data[coluna] = pd.to_numeric(enem2023_data[coluna], errors='coerce')\n",
        "\n",
        "#enem2023_data['zscore_ciencia'] = zscore(enem2023_data['Ciências da natureza'].dropna())\n",
        "#enem2023_data['zscore_redacao'] = zscore(enem2023_data['Redação'].dropna())\n",
        "\n",
        "for coluna in enem2023_data.columns.difference(['sexo']):enem2023_data[coluna] = pd.to_numeric(enem2023_data[coluna], errors='coerce')\n",
        "disciplinas_natureza_redacao = enem2023_data[['Ciências da natureza', 'Redação']]\n",
        "\n",
        "# Os quartis dividem esse conjunto em quatro (daí vem o nome quartis), cada um contendo 25% (um quarto) dos dados\n",
        "# Já o primeiro quartil (Q1) será a base da caixa e o terceiro quartil (Q3) o topo\n",
        "# A altura da caixa corresponde à diferença entre o terceiro e o primeiro quartil (Q1 - Q3).\n",
        "\n",
        "def calcular_limites_iqr(coluna):\n",
        "    Q1 = coluna.quantile(0.25)\n",
        "    Q3 = coluna.quantile(0.75)\n",
        "    IQR = Q1 - Q3 # Essa diferença recebe o nome de amplitude interquartil,\n",
        "                  #abreviada como IQR (que vem do termo em inglês, interquartile range)\n",
        "# Calcular os limites superior e inferior teóricos.\n",
        "    limite_inferior = Q1 - 1.5 * IQR\n",
        "    limite_superior = Q3 + 1.5 * IQR\n",
        "    return limite_inferior, limite_superior\n",
        "\n",
        "# Um boxplot é composto pelos limites superior e inferior.\n",
        "# Esses limites correspondem, respectivamente, ao maior e menor valor do conjunto de dados que não sejam outliers.\n",
        "\n",
        "limite_inf_cn, limite_sup_cn = calcular_limites_iqr(disciplinas_natureza_redacao['Ciências da natureza'])\n",
        "limite_inf_red, limite_sup_red = calcular_limites_iqr(disciplinas_natureza_redacao['Redação'])\n",
        "\n",
        "# Um outlier é um valor que destoa do conjunto de dados\n",
        "outliers_cn = disciplinas_natureza_redacao[(disciplinas_natureza_redacao['Ciências da natureza'] < limite_inf_cn) | (disciplinas_natureza_redacao['Ciências da natureza'] > limite_sup_cn)]\n",
        "outliers_red = disciplinas_natureza_redacao[(disciplinas_natureza_redacao['Redação'] < limite_inf_red) | (disciplinas_natureza_redacao['Redação'] > limite_sup_red)]\n",
        "\n",
        "print(f\"Outliers Ciências da natureza: {len(outliers_cn)}\")\n",
        "print(f\"Outliers Redação: {len(outliers_red)}\")\n",
        "\n",
        "# Gerar boxplot\n",
        "plt.figure(figsize=(10, 6))\n",
        "disciplinas_natureza_redacao.boxplot()\n",
        "plt.title('Boxplot das Notas Ciências da Natureza e Redação')\n",
        "plt.ylabel('Nota')\n",
        "plt.show()\n",
        "\n"
      ],
      "metadata": {
        "id": "6IL7cce6_eho",
        "colab": {
          "base_uri": "https://localhost:8080/",
          "height": 580
        },
        "outputId": "dfec6cd3-702c-41f8-96e7-4a7e630c6454"
      },
      "execution_count": 10,
      "outputs": [
        {
          "output_type": "stream",
          "name": "stdout",
          "text": [
            "Outliers Ciências da natureza: 824\n",
            "Outliers Redação: 860\n"
          ]
        },
        {
          "output_type": "display_data",
          "data": {
            "text/plain": [
              "<Figure size 1000x600 with 1 Axes>"
            ],
            "image/png": "[encoded data removed]"
          },
          "metadata": {}
        }
      ]
    },
    {
      "cell_type": "markdown",
      "source": [
        "9. Remova todos os outliers e verifique se eles são passíveis de alterar a média nacional significativamente? (considere significativamente um valor acima de 5%)"
      ],
      "metadata": {
        "id": "fbr-4XIj_hg1"
      }
    },
    {
      "cell_type": "code",
      "source": [
        "for coluna in ['Ciências da natureza', 'Redação']:\n",
        "    enem2023_data[coluna] = pd.to_numeric(enem2023_data[coluna], errors='coerce')\n",
        "\n",
        "selecionadas = enem2023_data[['Ciências da natureza', 'Redação']]\n",
        "\n",
        "# Método IQR\n",
        "def calcular_limites(dados):\n",
        "    Q1 = dados.quantile(0.25)\n",
        "    Q3 = dados.quantile(0.75)\n",
        "    IQR = Q3 - Q1\n",
        "    limite_inferior = Q1 - 1.5 * IQR\n",
        "    limite_superior = Q3 + 1.5 * IQR\n",
        "    return limite_inferior, limite_superior\n",
        "\n",
        "limite_inferior_cn, limite_superior_cn = calcular_limites(selecionadas['Ciências da natureza'].dropna())\n",
        "limite_inferior_red, limite_superior_red = calcular_limites(selecionadas['Redação'].dropna())\n",
        "\n",
        "# Remover os outliers\n",
        "sem_outliers = selecionadas[\n",
        "    (selecionadas['Ciências da natureza'] >= limite_inferior_cn) & (selecionadas['Ciências da natureza'] <= limite_superior_cn) &\n",
        "    (selecionadas['Redação'] >= limite_inferior_red) & (selecionadas['Redação'] <= limite_superior_red)\n",
        "]\n",
        "\n",
        "# Calcular as médias sem outliers\n",
        "media_cn_sem_outliers = sem_outliers['Ciências da natureza'].mean()\n",
        "media_red_sem_outliers = sem_outliers['Redação'].mean()\n",
        "\n",
        "# Calcular as médias com outliers\n",
        "media_cn_com_outliers = selecionadas['Ciências da natureza'].mean()\n",
        "media_red_com_outliers = selecionadas['Redação'].mean()\n",
        "\n",
        "def verificar_alteracao_significativa(media_sem_outliers, media_com_outliers):\n",
        "    diferenca = abs(media_sem_outliers - media_com_outliers) / media_com_outliers\n",
        "    return diferenca > 0.05\n",
        "\n",
        "alteracao_significativa_cn = verificar_alteracao_significativa(media_cn_sem_outliers, media_cn_com_outliers)\n",
        "alteracao_significativa_red = verificar_alteracao_significativa(media_red_sem_outliers, media_red_com_outliers)\n",
        "\n",
        "if alteracao_significativa_cn or alteracao_significativa_red:\n",
        "    print('A média foi alterada significativamente.')\n",
        "else:\n",
        "    print('A média não foi alterada significativamente.')\n",
        "\n",
        "print(f\"Média Ciências da natureza com outliers: {media_cn_com_outliers:.2f}\")\n",
        "print(f\"Média Ciências da natureza sem outliers: {media_cn_sem_outliers:.2f}\")\n",
        "print(f\"Média Redação com outliers: {media_red_com_outliers:.2f}\")\n",
        "print(f\"Média Redação sem outliers: {media_red_sem_outliers:.2f}\")\n"
      ],
      "metadata": {
        "colab": {
          "base_uri": "https://localhost:8080/"
        },
        "id": "u_8B7Y04E1sl",
        "outputId": "448910ac-5edc-4d0b-ca02-07e7a2a8c939"
      },
      "execution_count": null,
      "outputs": [
        {
          "output_type": "stream",
          "name": "stdout",
          "text": [
            "A média não foi alterada significativamente.\n",
            "Média Ciências da natureza com outliers: 499.32\n",
            "Média Ciências da natureza sem outliers: 500.81\n",
            "Média Redação com outliers: 637.78\n",
            "Média Redação sem outliers: 637.72\n"
          ]
        }
      ]
    },
    {
      "cell_type": "markdown",
      "source": [
        "10. Considerando valores nulos, tente encontrar qual seria a melhor medida de tendência que pode substituir as notas nulas. Média, moda ou mediana? Substitua o valor por todos os três e diga qual delas altera menos a média geral e o desvio padrão."
      ],
      "metadata": {
        "id": "TLjfvqIE_jpk"
      }
    },
    {
      "cell_type": "code",
      "source": [
        "for coluna in enem2023_data.columns.difference(['sexo']):enem2023_data[coluna] = pd.to_numeric(enem2023_data[coluna], errors='coerce')\n",
        "\n",
        "# Calcular média e desvio padrão\n",
        "def calcular_media_desvio(df, coluna):\n",
        "    media_geral = df[coluna].mean()\n",
        "    desvio_padrao_geral = df[coluna].std()\n",
        "    return media_geral, desvio_padrao_geral\n",
        "\n",
        "# Substituir valores nulos por média, moda e mediana\n",
        "media_valores = enem2023_data.fillna(enem2023_data.mean(numeric_only=True))\n",
        "\n",
        "moda_valores = enem2023_data.fillna(enem2023_data.mode().iloc[0])\n",
        "\n",
        "mediana_valores = enem2023_data.fillna(enem2023_data.median(numeric_only=True))\n",
        "\n",
        "media_media, desvio_media = calcular_media_desvio(media_valores, 'nota')\n",
        "media_moda, desvio_moda = calcular_media_desvio(moda_valores, 'nota')\n",
        "media_mediana, desvio_mediana = calcular_media_desvio(mediana_valores, 'nota')\n",
        "\n",
        "print(f\"Substituindo por Média: Média = {media_media:.2f}, Desvio Padrão = {desvio_media:.2f}\")\n",
        "print(f\"Substituindo por Moda: Média = {media_moda:.2f}, Desvio Padrão = {desvio_moda:.2f}\")\n",
        "print(f\"Substituindo por Mediana: Média = {media_mediana:.2f}, Desvio Padrão = {desvio_mediana:.2f}\")\n"
      ],
      "metadata": {
        "colab": {
          "base_uri": "https://localhost:8080/"
        },
        "id": "0H4qQy7i_oGA",
        "outputId": "98dac0e0-a702-4d4e-e0e0-ec2ae1e80804"
      },
      "execution_count": null,
      "outputs": [
        {
          "output_type": "stream",
          "name": "stdout",
          "text": [
            "Substituindo por Média: Média = 5496.50, Desvio Padrão = 461.50\n",
            "Substituindo por Moda: Média = 5496.50, Desvio Padrão = 461.50\n",
            "Substituindo por Mediana: Média = 5496.50, Desvio Padrão = 461.50\n"
          ]
        }
      ]
    }
  ]
}